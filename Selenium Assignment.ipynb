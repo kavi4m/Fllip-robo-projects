{
 "cells": [
  {
   "cell_type": "code",
   "execution_count": 1,
   "metadata": {},
   "outputs": [],
   "source": [
    "import selenium\n",
    "import pandas as pd\n",
    "from selenium import webdriver\n",
    "import time"
   ]
  },
  {
   "cell_type": "code",
   "execution_count": 2,
   "metadata": {},
   "outputs": [],
   "source": [
    "from selenium import webdriver\n",
    "from selenium.common.exceptions import InvalidArgumentException\n",
    "from selenium.webdriver.common.by import By\n",
    "from selenium.webdriver.support.ui import WebDriverWait\n",
    "from selenium.webdriver.support import expected_conditions as EC\n",
    "from selenium.webdriver.chrome.options import Options\n",
    "from selenium.webdriver.common import action_chains"
   ]
  },
  {
   "cell_type": "code",
   "execution_count": 65,
   "metadata": {},
   "outputs": [],
   "source": [
    "driver=webdriver.Chrome(\"chromedriver.exe\")"
   ]
  },
  {
   "cell_type": "markdown",
   "metadata": {},
   "source": [
    "# 1st question"
   ]
  },
  {
   "cell_type": "markdown",
   "metadata": {},
   "source": [
    "Q1: Write a python program to scrape data for “Data Analyst” Job position in\n",
    "“Bangalore” location. You have to scrape the job-title, job-location, company_name,\n",
    "experience_required. You have to scrape first 10 jobs data."
   ]
  },
  {
   "cell_type": "code",
   "execution_count": 12,
   "metadata": {},
   "outputs": [],
   "source": [
    "url = 'https://www.naukri.com/'\n",
    "driver.get(url)"
   ]
  },
  {
   "cell_type": "code",
   "execution_count": 5,
   "metadata": {},
   "outputs": [],
   "source": [
    "driver.get(\"https://www.naukri.com/\")\n",
    "skillname = driver.find_element_by_xpath(\"//input[@id='qsb-keyword-sugg']\")\n",
    "skillname.send_keys(\"Data Analyst\")\n",
    "location = driver.find_element_by_xpath(\"//input[@id='qsb-location-sugg']\")\n",
    "location.send_keys(\"Bangalore\")\n",
    "# click the submit button\n",
    "searchbtn = driver.find_element_by_xpath(\"//button[@class='btn']\")\n",
    "#searchBtn = driver.find_element_by_class_name(\"//search-btn\")\n",
    "searchbtn.click()"
   ]
  },
  {
   "cell_type": "code",
   "execution_count": 6,
   "metadata": {},
   "outputs": [
    {
     "name": "stdout",
     "output_type": "stream",
     "text": [
      "experience requried:  [<selenium.webdriver.remote.webelement.WebElement (session=\"b0ecb665e304a04bc604de4a05497a3d\", element=\"73680b7c-0aca-4fff-ac78-79bb91bca58f\")>, <selenium.webdriver.remote.webelement.WebElement (session=\"b0ecb665e304a04bc604de4a05497a3d\", element=\"2309e450-7b03-4079-8d26-544bdde3159d\")>, <selenium.webdriver.remote.webelement.WebElement (session=\"b0ecb665e304a04bc604de4a05497a3d\", element=\"c26a161d-603d-4af7-9305-2e48dc0869b2\")>, <selenium.webdriver.remote.webelement.WebElement (session=\"b0ecb665e304a04bc604de4a05497a3d\", element=\"0ce0d16b-8b77-420e-a5be-0851d6477c68\")>, <selenium.webdriver.remote.webelement.WebElement (session=\"b0ecb665e304a04bc604de4a05497a3d\", element=\"ef1e167e-2e72-4f01-9d1d-6b2ccf45e792\")>, <selenium.webdriver.remote.webelement.WebElement (session=\"b0ecb665e304a04bc604de4a05497a3d\", element=\"8d73dc0f-215a-4a12-98d4-d822dfa00dbb\")>, <selenium.webdriver.remote.webelement.WebElement (session=\"b0ecb665e304a04bc604de4a05497a3d\", element=\"30a6201a-810e-41ba-968d-cf8a402fd603\")>, <selenium.webdriver.remote.webelement.WebElement (session=\"b0ecb665e304a04bc604de4a05497a3d\", element=\"69e89d60-cc33-41a2-9f12-9fc0d44902e0\")>, <selenium.webdriver.remote.webelement.WebElement (session=\"b0ecb665e304a04bc604de4a05497a3d\", element=\"6f9c15b1-cbde-4ffe-854c-8b0aa1487986\")>, <selenium.webdriver.remote.webelement.WebElement (session=\"b0ecb665e304a04bc604de4a05497a3d\", element=\"d3efc5a8-c674-4730-a6d5-340c4636a9e6\")>, <selenium.webdriver.remote.webelement.WebElement (session=\"b0ecb665e304a04bc604de4a05497a3d\", element=\"897b7fb6-c46c-43fd-b7d1-0f82df48d3ab\")>, <selenium.webdriver.remote.webelement.WebElement (session=\"b0ecb665e304a04bc604de4a05497a3d\", element=\"ba79689c-4924-41bb-a71f-1ff6d6985556\")>, <selenium.webdriver.remote.webelement.WebElement (session=\"b0ecb665e304a04bc604de4a05497a3d\", element=\"93df19e6-3f02-475f-86bd-1612edb61df4\")>, <selenium.webdriver.remote.webelement.WebElement (session=\"b0ecb665e304a04bc604de4a05497a3d\", element=\"e1dbb653-6683-44c8-8440-7b1c3afba67d\")>, <selenium.webdriver.remote.webelement.WebElement (session=\"b0ecb665e304a04bc604de4a05497a3d\", element=\"880134b4-e3b8-41f3-bce6-cbfc332ee034\")>, <selenium.webdriver.remote.webelement.WebElement (session=\"b0ecb665e304a04bc604de4a05497a3d\", element=\"2a955492-f350-406c-bea7-de7620a6ca62\")>, <selenium.webdriver.remote.webelement.WebElement (session=\"b0ecb665e304a04bc604de4a05497a3d\", element=\"8d0e4b51-814a-434f-991f-747f7143992e\")>, <selenium.webdriver.remote.webelement.WebElement (session=\"b0ecb665e304a04bc604de4a05497a3d\", element=\"b5cb3eb8-e5de-44e2-8950-43a5e52e9357\")>, <selenium.webdriver.remote.webelement.WebElement (session=\"b0ecb665e304a04bc604de4a05497a3d\", element=\"21013117-0aec-474a-bfc7-a704ca1778a6\")>, <selenium.webdriver.remote.webelement.WebElement (session=\"b0ecb665e304a04bc604de4a05497a3d\", element=\"b9fc47b7-277c-41d4-b0cf-6b11a6b5306b\")>]\n"
     ]
    }
   ],
   "source": [
    "joblist = driver.find_elements_by_xpath(\"//article[@class='jobTuple bgWhite br4 mb-8']\")\n",
    "#print(\"Job is: \",joblist[1].find_element_by_xpath(\"//div[@class='jobTupleHeader']/div[@class='info fleft']/a[@class='title fw500 ellipsis']\").get_attribute(\"title\"))\n",
    "jobtitle = driver.find_elements_by_xpath(\"//a[@class='title fw500 ellipsis']\")\n",
    "#print(\"Job 1: \", jobtitle[3].get_attribute(\"text\"))\n",
    "companyname = driver.find_elements_by_xpath(\"//a[@class='subTitle ellipsis fleft']\")\n",
    "\n",
    "\n",
    "joblocation = driver.find_elements_by_xpath(\"//li[@class='fleft grey-text br2 placeHolderLi location']/span[@class='ellipsis fleft fs12 lh16']\")\n",
    "\n",
    "experiencerequired = driver.find_elements_by_xpath(\"//li[@class='fleft grey-text br2 placeHolderLi experience']/span[@class='ellipsis fleft fs12 lh16']\")\n",
    "print(\"experience requried: \", experiencerequired)"
   ]
  },
  {
   "cell_type": "code",
   "execution_count": 7,
   "metadata": {},
   "outputs": [
    {
     "name": "stdout",
     "output_type": "stream",
     "text": [
      "0 :  Data Scientist / Data Analyst -Business Analyst\n",
      "1 :  Data Analyst\n",
      "2 :  Data analysts\n",
      "3 :  Data Analyst (2positions)//immediate Joiners//bangalore\n",
      "4 :  Data analysts\n",
      "5 :  Data Analyst\n",
      "6 :  Data Analyst\n",
      "7 :  Consultant-Data Analyst -Bangalore\n",
      "8 :  Data Analyst - Category Demand Management (Revenue & Growth)\n",
      "9 :  Data Analyst/ Data Consultant (Various Levels – Senior/ Mid/ Junior)\n"
     ]
    }
   ],
   "source": [
    "counter = 0\n",
    "for title in jobtitle:\n",
    "    #x = job.find_element_by_xpath(\"//a[@class='subTitle ellipsis fleft']\")\n",
    "    if(counter == 10):\n",
    "        break\n",
    "    else:\n",
    "        print(counter, \": \" , title.get_attribute(\"text\"))\n",
    "    counter += 1"
   ]
  },
  {
   "cell_type": "code",
   "execution_count": 8,
   "metadata": {},
   "outputs": [
    {
     "name": "stdout",
     "output_type": "stream",
     "text": [
      "0 :  Inflexion Analytix Private Limited\n",
      "1 :  Novel Office \n",
      "2 :  IBM India Pvt. Limited\n",
      "3 :  Tech Mahindra Ltd.\n",
      "4 :  IBM India Pvt. Limited\n",
      "5 :  Myntra Designs Pvt. Ltd.\n",
      "6 :  Myntra Designs Pvt. Ltd.\n",
      "7 :  Innovsource Services Private Limited\n",
      "8 :  Myntra Designs Pvt. Ltd.\n",
      "9 :  DVSUM INDIA PRIVATE LIMITED \n"
     ]
    }
   ],
   "source": [
    "counter = 0\n",
    "for company in companyname:\n",
    "    if(counter == 10):\n",
    "        break\n",
    "    else:\n",
    "        print(counter, \": \" ,company.get_attribute(\"text\")) \n",
    "    counter += 1"
   ]
  },
  {
   "cell_type": "code",
   "execution_count": 9,
   "metadata": {},
   "outputs": [
    {
     "name": "stdout",
     "output_type": "stream",
     "text": [
      "0 :  Mumbai, Hyderabad/Secunderabad, Pune, Gurgaon/Gurugram, Chennai, Bangalore/Bengaluru\n",
      "1 :  Bangalore/Bengaluru\n",
      "2 :  Bengaluru/Bangalore\n",
      "3 :  Bangalore/Bengaluru\n",
      "4 :  Bangalore/Bengaluru\n",
      "5 :  Bangalore/Bengaluru\n",
      "6 :  Bangalore/Bengaluru\n",
      "7 :  Bangalore/Bengaluru\n",
      "8 :  Bangalore/Bengaluru\n",
      "9 :  Bangalore/Bengaluru\n"
     ]
    }
   ],
   "source": [
    "counter = 0\n",
    "for loc in joblocation:\n",
    "    if(counter == 10):\n",
    "        break\n",
    "    else:\n",
    "        print(counter, \": \" , loc.get_attribute(\"title\")) \n",
    "    counter += 1"
   ]
  },
  {
   "cell_type": "code",
   "execution_count": 10,
   "metadata": {},
   "outputs": [
    {
     "name": "stdout",
     "output_type": "stream",
     "text": [
      "0 :  0-3 Yrs\n",
      "1 :  0-3 Yrs\n",
      "2 :  5-6 Yrs\n",
      "3 :  4-8 Yrs\n",
      "4 :  3-5 Yrs\n",
      "5 :  3-5 Yrs\n",
      "6 :  3-8 Yrs\n",
      "7 :  2-7 Yrs\n",
      "8 :  1-4 Yrs\n",
      "9 :  5-10 Yrs\n"
     ]
    }
   ],
   "source": [
    "counter = 0\n",
    "for exp in experiencerequired:\n",
    "    if(counter == 10):\n",
    "        break\n",
    "    else:\n",
    "        print(counter, \": \" , exp.get_attribute(\"title\")) \n",
    "    counter += 1"
   ]
  },
  {
   "cell_type": "markdown",
   "metadata": {},
   "source": [
    "# 2nd question"
   ]
  },
  {
   "cell_type": "markdown",
   "metadata": {},
   "source": [
    "Q2: Write a python program to scrape data for “Data Scientist” Job position in\n",
    "“Bangalore” location. You have to scrape the job-title, job-location,\n",
    "company_name, full job-description. You have to scrape first 10 jobs data."
   ]
  },
  {
   "cell_type": "code",
   "execution_count": 42,
   "metadata": {},
   "outputs": [],
   "source": [
    "url = 'https://www.naukri.com/'\n",
    "driver.get(url)"
   ]
  },
  {
   "cell_type": "code",
   "execution_count": 43,
   "metadata": {},
   "outputs": [],
   "source": [
    "skillname = driver.find_element_by_xpath(\"//input[@id='qsb-keyword-sugg']\")\n",
    "skillname.send_keys(\"Data Scientist\")\n",
    "location = driver.find_element_by_xpath(\"//input[@id='qsb-location-sugg']\")\n",
    "location.send_keys(\"Bangalore\")\n",
    "# click the submit button\n",
    "searchbtn = driver.find_element_by_xpath(\"//button[@class='btn']\")\n",
    "#searchBtn = driver.find_element_by_class_name(\"//search-btn\")\n",
    "searchbtn.click()"
   ]
  },
  {
   "cell_type": "code",
   "execution_count": 45,
   "metadata": {},
   "outputs": [
    {
     "name": "stdout",
     "output_type": "stream",
     "text": [
      "experience requried:  [<selenium.webdriver.remote.webelement.WebElement (session=\"a45613fe33b6cc7ee73d0c3ac10ab534\", element=\"0ba4724d-d85c-495b-9bed-e235622f188e\")>, <selenium.webdriver.remote.webelement.WebElement (session=\"a45613fe33b6cc7ee73d0c3ac10ab534\", element=\"258a9cc0-f704-48dd-81ee-ed622dfe5c2a\")>, <selenium.webdriver.remote.webelement.WebElement (session=\"a45613fe33b6cc7ee73d0c3ac10ab534\", element=\"f7ec981c-bdd0-4df7-8bc5-e24cf5ad9518\")>, <selenium.webdriver.remote.webelement.WebElement (session=\"a45613fe33b6cc7ee73d0c3ac10ab534\", element=\"d1cb90e4-93cb-41df-9b27-a806dabf751d\")>, <selenium.webdriver.remote.webelement.WebElement (session=\"a45613fe33b6cc7ee73d0c3ac10ab534\", element=\"40691c0f-7ff3-429e-9e4e-5ff73471fdb4\")>, <selenium.webdriver.remote.webelement.WebElement (session=\"a45613fe33b6cc7ee73d0c3ac10ab534\", element=\"2b2fefff-a8fc-4fcc-88f9-236a0b76bad4\")>, <selenium.webdriver.remote.webelement.WebElement (session=\"a45613fe33b6cc7ee73d0c3ac10ab534\", element=\"9a8774f2-2f60-4465-ac29-260b60c0a825\")>, <selenium.webdriver.remote.webelement.WebElement (session=\"a45613fe33b6cc7ee73d0c3ac10ab534\", element=\"3b5d79c9-120e-487b-85cc-a80e7be52b39\")>, <selenium.webdriver.remote.webelement.WebElement (session=\"a45613fe33b6cc7ee73d0c3ac10ab534\", element=\"a5f2dbf4-5e2d-4709-a113-86ddff7319b0\")>, <selenium.webdriver.remote.webelement.WebElement (session=\"a45613fe33b6cc7ee73d0c3ac10ab534\", element=\"f3be72ed-eec9-4df1-a449-4c441d2c14c6\")>, <selenium.webdriver.remote.webelement.WebElement (session=\"a45613fe33b6cc7ee73d0c3ac10ab534\", element=\"348f4f13-a831-4e55-879f-35891a3f9bf7\")>, <selenium.webdriver.remote.webelement.WebElement (session=\"a45613fe33b6cc7ee73d0c3ac10ab534\", element=\"20eb8180-79f1-4502-8148-b2c6499ed84f\")>, <selenium.webdriver.remote.webelement.WebElement (session=\"a45613fe33b6cc7ee73d0c3ac10ab534\", element=\"4bf45700-fd0a-4a6d-a98f-a4731e561f4b\")>, <selenium.webdriver.remote.webelement.WebElement (session=\"a45613fe33b6cc7ee73d0c3ac10ab534\", element=\"b17660aa-6807-41ef-bd7e-cd37aac8b92d\")>, <selenium.webdriver.remote.webelement.WebElement (session=\"a45613fe33b6cc7ee73d0c3ac10ab534\", element=\"e1ed20e0-c0fc-40a4-baf0-e33f6339cd6b\")>, <selenium.webdriver.remote.webelement.WebElement (session=\"a45613fe33b6cc7ee73d0c3ac10ab534\", element=\"6a7d6b85-401f-47c4-a3e9-c93784417c64\")>, <selenium.webdriver.remote.webelement.WebElement (session=\"a45613fe33b6cc7ee73d0c3ac10ab534\", element=\"46413514-4f27-4a59-94ca-d937b5eb5e4c\")>, <selenium.webdriver.remote.webelement.WebElement (session=\"a45613fe33b6cc7ee73d0c3ac10ab534\", element=\"2a8cd125-e89d-4865-8f57-d472d9a483aa\")>, <selenium.webdriver.remote.webelement.WebElement (session=\"a45613fe33b6cc7ee73d0c3ac10ab534\", element=\"cad7fe21-c1b0-443f-b12e-ca28b13d5f67\")>, <selenium.webdriver.remote.webelement.WebElement (session=\"a45613fe33b6cc7ee73d0c3ac10ab534\", element=\"c254a773-7faa-4eb5-8249-661634764ba9\")>]\n"
     ]
    }
   ],
   "source": [
    "joblist = driver.find_elements_by_xpath(\"//article[@class='jobTuple bgWhite br4 mb-8']\")\n",
    "#print(\"Job is: \",joblist[1].find_element_by_xpath(\"//div[@class='jobTupleHeader']/div[@class='info fleft']/a[@class='title fw500 ellipsis']\").get_attribute(\"title\"))\n",
    "jobtitle = driver.find_elements_by_xpath(\"//a[@class='title fw500 ellipsis']\")\n",
    "#print(\"Job 1: \", jobtitle[3].get_attribute(\"text\"))\n",
    "companyname = driver.find_elements_by_xpath(\"//a[@class='subTitle ellipsis fleft']\")\n",
    "\n",
    "\n",
    "joblocation = driver.find_elements_by_xpath(\"//li[@class='fleft grey-text br2 placeHolderLi location']/span[@class='ellipsis fleft fs12 lh16']\")\n",
    "\n",
    "experiencerequired = driver.find_elements_by_xpath(\"//li[@class='fleft grey-text br2 placeHolderLi experience']/span[@class='ellipsis fleft fs12 lh16']\")\n",
    "print(\"experience requried: \", experiencerequired)\n"
   ]
  },
  {
   "cell_type": "code",
   "execution_count": 48,
   "metadata": {},
   "outputs": [
    {
     "name": "stdout",
     "output_type": "stream",
     "text": [
      "job description:  []\n"
     ]
    }
   ],
   "source": [
    "jobdescription= driver.find_elements_by_xpath(\"//div[@id='root']/section[@class='/html/body/div[1]/main/div[2]/div[2]/section[2]']\")\n",
    "print(\"job description: \", jobdescription)"
   ]
  },
  {
   "cell_type": "code",
   "execution_count": 49,
   "metadata": {},
   "outputs": [
    {
     "name": "stdout",
     "output_type": "stream",
     "text": [
      "job description:  [<selenium.webdriver.remote.webelement.WebElement (session=\"a45613fe33b6cc7ee73d0c3ac10ab534\", element=\"9242edaa-b3af-4135-aca5-8119bc090e3b\")>]\n"
     ]
    }
   ],
   "source": [
    "\n",
    "jobdescription= driver.find_elements_by_xpath(\"//div[@id='root']\")\n",
    "print(\"job description: \", jobdescription)"
   ]
  },
  {
   "cell_type": "code",
   "execution_count": 25,
   "metadata": {},
   "outputs": [
    {
     "name": "stdout",
     "output_type": "stream",
     "text": [
      "0 :  Data Scientist / Data Analyst -Business Analyst\n",
      "1 :  data scientist\n",
      "2 :  Data analytics / Data scientist intern (work from Home)\n",
      "3 :  Senior Data Scientist\n",
      "4 :  VP - Sr. Data Scientist For Morgan Stanley, Bangalore\n",
      "5 :  Senior Data Scientist\n",
      "6 :  Senior Data Scientist\n",
      "7 :  Senior Data Scientist\n",
      "8 :  Senior Data Scientist\n",
      "9 :  Sr Data Scientist\n"
     ]
    }
   ],
   "source": [
    "counter = 0\n",
    "for title in jobtitle:\n",
    "    #x = job.find_element_by_xpath(\"//a[@class='subTitle ellipsis fleft']\")\n",
    "    if(counter == 10):\n",
    "        break\n",
    "    else:\n",
    "        print(counter, \": \" , title.get_attribute(\"text\"))\n",
    "    counter += 1"
   ]
  },
  {
   "cell_type": "code",
   "execution_count": 26,
   "metadata": {},
   "outputs": [
    {
     "name": "stdout",
     "output_type": "stream",
     "text": [
      "0 :  Inflexion Analytix Private Limited\n",
      "1 :  Global Talent Pool\n",
      "2 :  TalkValley LLC\n",
      "3 :  RedBus\n",
      "4 :  \tMorgan Stanley Advantage Services\n",
      "5 :  Infocrunch Campaigns Pvt Ltd\n",
      "6 :  Walmart Labs\n",
      "7 :  ExecBoardinAsia\n",
      "8 :  Perform Group\n",
      "9 :  intelligent industrial internet systems pvt ltd.\n"
     ]
    }
   ],
   "source": [
    "counter = 0\n",
    "for company in companyname:\n",
    "    if(counter == 10):\n",
    "        break\n",
    "    else:\n",
    "        print(counter, \": \" ,company.get_attribute(\"text\")) \n",
    "    counter += 1"
   ]
  },
  {
   "cell_type": "code",
   "execution_count": 27,
   "metadata": {},
   "outputs": [
    {
     "name": "stdout",
     "output_type": "stream",
     "text": [
      "0 :  Mumbai, Hyderabad/Secunderabad, Pune, Gurgaon/Gurugram, Chennai, Bangalore/Bengaluru\n",
      "1 :  Bangalore/Bengaluru\n",
      "2 :  Kolkata, Bangalore/Bengaluru, Delhi / NCR\n",
      "3 :  Bangalore/Bengaluru\n",
      "4 :  Bangalore/Bengaluru\n",
      "5 :  Hyderabad/Secunderabad, Bangalore/Bengaluru, Delhi / NCR\n",
      "6 :  Bangalore/Bengaluru\n",
      "7 :  Bangalore/Bengaluru\n",
      "8 :  Bangalore/Bengaluru\n",
      "9 :  Bangalore/Bengaluru, Mumbai (All Areas)\n"
     ]
    }
   ],
   "source": [
    "counter = 0\n",
    "for loc in joblocation:\n",
    "    if(counter == 10):\n",
    "        break\n",
    "    else:\n",
    "        print(counter, \": \" , loc.get_attribute(\"title\")) \n",
    "    counter += 1"
   ]
  },
  {
   "cell_type": "code",
   "execution_count": 28,
   "metadata": {},
   "outputs": [
    {
     "name": "stdout",
     "output_type": "stream",
     "text": [
      "0 :  0-3 Yrs\n",
      "1 :  0-2 Yrs\n",
      "2 :  0-5 Yrs\n",
      "3 :  5-8 Yrs\n",
      "4 :  8-13 Yrs\n",
      "5 :  3-7 Yrs\n",
      "6 :  8-10 Yrs\n",
      "7 :  5-10 Yrs\n",
      "8 :  4-7 Yrs\n",
      "9 :  3-6 Yrs\n"
     ]
    }
   ],
   "source": [
    "counter = 0\n",
    "for exp in experiencerequired:\n",
    "    if(counter == 10):\n",
    "        break\n",
    "    else:\n",
    "        print(counter, \": \" , exp.get_attribute(\"title\")) \n",
    "    counter += 1"
   ]
  },
  {
   "cell_type": "markdown",
   "metadata": {},
   "source": [
    "# third question"
   ]
  },
  {
   "cell_type": "markdown",
   "metadata": {},
   "source": [
    "Q3: In this question you have to scrape data using the filters available on the\n",
    "webpage as shown below:"
   ]
  },
  {
   "cell_type": "code",
   "execution_count": 61,
   "metadata": {},
   "outputs": [],
   "source": [
    "driver=webdriver.Chrome(\"chromedriver.exe\")"
   ]
  },
  {
   "cell_type": "code",
   "execution_count": 62,
   "metadata": {},
   "outputs": [],
   "source": [
    "url = 'https://www.naukri.com/'\n",
    "driver.get(url)"
   ]
  },
  {
   "cell_type": "code",
   "execution_count": 63,
   "metadata": {},
   "outputs": [],
   "source": [
    "skillname = driver.find_element_by_xpath(\"//input[@id='qsb-keyword-sugg']\")\n",
    "skillname.send_keys(\"Data Scientist\")\n",
    "# click the submit button\n",
    "searchbtn = driver.find_element_by_xpath(\"//button[@class='btn']\")\n",
    "#searchBtn = driver.find_element_by_class_name(\"//search-btn\")\n",
    "searchbtn.click()\n",
    "\n",
    "\n",
    "  "
   ]
  },
  {
   "cell_type": "code",
   "execution_count": 64,
   "metadata": {},
   "outputs": [
    {
     "name": "stdout",
     "output_type": "stream",
     "text": [
      "experience requried:  [<selenium.webdriver.remote.webelement.WebElement (session=\"c6a22c501ddc0ca402374edb21894c8c\", element=\"bcb898f9-bdf3-4cd6-ab57-881dce9f09ae\")>, <selenium.webdriver.remote.webelement.WebElement (session=\"c6a22c501ddc0ca402374edb21894c8c\", element=\"2d18d426-a820-4a54-932c-55675f063b81\")>, <selenium.webdriver.remote.webelement.WebElement (session=\"c6a22c501ddc0ca402374edb21894c8c\", element=\"04e5e467-a0e2-47b0-8ef3-159756d3a296\")>, <selenium.webdriver.remote.webelement.WebElement (session=\"c6a22c501ddc0ca402374edb21894c8c\", element=\"4cb7fa85-0e46-4873-b8aa-29567b7539c0\")>, <selenium.webdriver.remote.webelement.WebElement (session=\"c6a22c501ddc0ca402374edb21894c8c\", element=\"fcc6952d-cdcd-4b89-a42c-14ecaf4c84db\")>, <selenium.webdriver.remote.webelement.WebElement (session=\"c6a22c501ddc0ca402374edb21894c8c\", element=\"9e35033d-0b3d-4f59-8068-58b45a8b5996\")>, <selenium.webdriver.remote.webelement.WebElement (session=\"c6a22c501ddc0ca402374edb21894c8c\", element=\"d65c7bd9-08ee-4ff8-aaeb-641b885309c8\")>, <selenium.webdriver.remote.webelement.WebElement (session=\"c6a22c501ddc0ca402374edb21894c8c\", element=\"3bea6bee-8c8e-4ecd-b65c-2d1145ddac05\")>, <selenium.webdriver.remote.webelement.WebElement (session=\"c6a22c501ddc0ca402374edb21894c8c\", element=\"0312a580-c8ec-412d-8b26-f796d35a973a\")>, <selenium.webdriver.remote.webelement.WebElement (session=\"c6a22c501ddc0ca402374edb21894c8c\", element=\"d61a3483-e803-4166-b9f8-09880d96937d\")>, <selenium.webdriver.remote.webelement.WebElement (session=\"c6a22c501ddc0ca402374edb21894c8c\", element=\"95d05e0d-9fd1-4481-95d0-eb7d41e619de\")>, <selenium.webdriver.remote.webelement.WebElement (session=\"c6a22c501ddc0ca402374edb21894c8c\", element=\"07db5eea-028d-4b59-ae5e-3e6d930682f9\")>, <selenium.webdriver.remote.webelement.WebElement (session=\"c6a22c501ddc0ca402374edb21894c8c\", element=\"4a7500dc-e50f-430f-a004-29a385730d48\")>, <selenium.webdriver.remote.webelement.WebElement (session=\"c6a22c501ddc0ca402374edb21894c8c\", element=\"a3ba913d-695f-4b03-be63-a2a32511ca4d\")>, <selenium.webdriver.remote.webelement.WebElement (session=\"c6a22c501ddc0ca402374edb21894c8c\", element=\"20609d2b-9cf0-4aad-82ad-18cc48b8ecaf\")>, <selenium.webdriver.remote.webelement.WebElement (session=\"c6a22c501ddc0ca402374edb21894c8c\", element=\"e1ece7e4-1bac-4214-9729-d042d69b9b86\")>, <selenium.webdriver.remote.webelement.WebElement (session=\"c6a22c501ddc0ca402374edb21894c8c\", element=\"0e64e36d-1f94-45f8-9bda-3f9bfc7ffe9a\")>, <selenium.webdriver.remote.webelement.WebElement (session=\"c6a22c501ddc0ca402374edb21894c8c\", element=\"b1b6f61d-20cf-4606-a925-d446ac0d13ea\")>, <selenium.webdriver.remote.webelement.WebElement (session=\"c6a22c501ddc0ca402374edb21894c8c\", element=\"c2e7e942-8f64-4566-83ff-30443f676357\")>, <selenium.webdriver.remote.webelement.WebElement (session=\"c6a22c501ddc0ca402374edb21894c8c\", element=\"bd841e20-93bc-4125-b9f9-729a04a23e5c\")>]\n"
     ]
    }
   ],
   "source": [
    "time.sleep(4)\n",
    "# click the filters\n",
    "#button = driver.find_element_by_xpath(\"//input[@id='chk-3-6 Lakhs-ctcFilter-']/label[@class='chkLbl']\").click()\n",
    "#driver.find_element_by_css_selector('i.fleft.naukicon.naukicon-checkbox').click(); \n",
    "driver.find_element_by_xpath(\"//label[@for='chk-3-6 Lakhs-ctcFilter-']/i[@class='fleft naukicon naukicon-checkbox']\").click();\n",
    "time.sleep(3)\n",
    "\n",
    "driver.find_element_by_xpath(\"//label[@for='chk-Delhi / NCR-cityTypeGid-']/i[@class='fleft naukicon naukicon-checkbox']\").click();\n",
    "time.sleep(3)\n",
    "\n",
    "jobtitle = driver.find_elements_by_xpath(\"//a[@class='title fw500 ellipsis']\")\n",
    "#print(\"Job 1: \", jobtitle[3].get_attribute(\"text\"))\n",
    "companyname = driver.find_elements_by_xpath(\"//a[@class='subTitle ellipsis fleft']\")\n",
    "\n",
    "\n",
    "joblocation = driver.find_elements_by_xpath(\"//li[@class='fleft grey-text br2 placeHolderLi location']/span[@class='ellipsis fleft fs12 lh16']\")\n",
    "\n",
    "experiencerequired = driver.find_elements_by_xpath(\"//li[@class='fleft grey-text br2 placeHolderLi experience']/span[@class='ellipsis fleft fs12 lh16']\")\n",
    "print(\"experience requried: \", experiencerequired)\n",
    "\n",
    "\n"
   ]
  },
  {
   "cell_type": "code",
   "execution_count": 65,
   "metadata": {},
   "outputs": [
    {
     "name": "stdout",
     "output_type": "stream",
     "text": [
      "0 :  Data Scientist / Data Analyst -Business Analyst\n",
      "1 :  Data analytics / Data scientist intern (work from Home)\n",
      "2 :  Chaayos is Looking For Data Scientist\n",
      "3 :  Data Scientist\n",
      "4 :  Junior Data Scientist\n",
      "5 :  We are hiring- Data Scientist +Python- Noida\n",
      "6 :  Data Scientist\n",
      "7 :  Data Analyst/Scientist Big Data, Statistical Techniques\n",
      "8 :  Business Analyst- Data Scientist\n",
      "9 :  Data Scientist\n"
     ]
    }
   ],
   "source": [
    "counter = 0\n",
    "for title in jobtitle:\n",
    "        #x = job.find_element_by_xpath(\"//a[@class='subTitle ellipsis fleft']\")\n",
    "    if(counter == 10):\n",
    "        break\n",
    "    else:\n",
    "        print(counter, \": \" , title.get_attribute(\"text\"))\n",
    "        counter += 1"
   ]
  },
  {
   "cell_type": "code",
   "execution_count": 66,
   "metadata": {},
   "outputs": [
    {
     "name": "stdout",
     "output_type": "stream",
     "text": [
      "0 :  Inflexion Analytix Private Limited\n",
      "1 :  TalkValley LLC\n",
      "2 :   Chaayos (Sunshine Teahouse Pvt. Ltd.)\n",
      "3 :  Fractal Analytics\n",
      "4 :  R Systems International Ltd.\n",
      "5 :  RANDSTAD INDIA PVT LTD\n",
      "6 :  Milliman India Pvt Ltd\n",
      "7 :  The Search House (A Div of JSD Search House Pvt. L td.)\n",
      "8 :  Wipro\n",
      "9 :  Evalueserve.com Pvt. Ltd\n"
     ]
    }
   ],
   "source": [
    "counter = 0\n",
    "for company in companyname:\n",
    "    if(counter == 10):\n",
    "        break\n",
    "    else:\n",
    "        print(counter, \": \" ,company.get_attribute(\"text\")) \n",
    "    counter += 1"
   ]
  },
  {
   "cell_type": "code",
   "execution_count": 67,
   "metadata": {},
   "outputs": [
    {
     "name": "stdout",
     "output_type": "stream",
     "text": [
      "0 :  Mumbai, Hyderabad/Secunderabad, Pune, Gurgaon/Gurugram, Chennai, Bangalore/Bengaluru\n",
      "1 :  Kolkata, Bangalore/Bengaluru, Delhi / NCR\n",
      "2 :  New Delhi\n",
      "3 :  Mumbai, Gurgaon/Gurugram, Bangalore/Bengaluru\n",
      "4 :  Noida(Sector-59 Noida)\n",
      "5 :  Noida, Gurgaon/Gurugram, Delhi / NCR\n",
      "6 :  Gurgaon/Gurugram, Delhi / NCR\n",
      "7 :  Gurgaon/Gurugram\n",
      "8 :  Noida, Gurgaon/Gurugram\n",
      "9 :  Gurgaon/Gurugram\n"
     ]
    }
   ],
   "source": [
    "counter = 0\n",
    "for loc in joblocation:\n",
    "    if(counter == 10):\n",
    "        break\n",
    "    else:\n",
    "        print(counter, \": \" , loc.get_attribute(\"title\")) \n",
    "    counter += 1"
   ]
  },
  {
   "cell_type": "code",
   "execution_count": 68,
   "metadata": {},
   "outputs": [
    {
     "name": "stdout",
     "output_type": "stream",
     "text": [
      "0 :  0-3 Yrs\n",
      "1 :  0-5 Yrs\n",
      "2 :  0-5 Yrs\n",
      "3 :  3-7 Yrs\n",
      "4 :  3-5 Yrs\n",
      "5 :  4-7 Yrs\n",
      "6 :  2-5 Yrs\n",
      "7 :  2-7 Yrs\n",
      "8 :  2-5 Yrs\n",
      "9 :  4-7 Yrs\n"
     ]
    }
   ],
   "source": [
    "counter = 0\n",
    "for exp in experiencerequired:\n",
    "    if(counter == 10):\n",
    "        break\n",
    "    else:\n",
    "        print(counter, \": \" , exp.get_attribute(\"title\")) \n",
    "    counter += 1"
   ]
  },
  {
   "cell_type": "markdown",
   "metadata": {},
   "source": [
    "# 4th question"
   ]
  },
  {
   "cell_type": "markdown",
   "metadata": {},
   "source": [
    "Q4: Write a python program to scrape data for first 10 job results for Data scientist\n",
    "Designation in Noida location. You have to scrape company_name, No. of days\n",
    "ago when job was posted, Rating of the company."
   ]
  },
  {
   "cell_type": "code",
   "execution_count": 6,
   "metadata": {},
   "outputs": [],
   "source": [
    "from selenium import webdriver\n",
    "from selenium.webdriver.common.by import By\n",
    "from selenium.webdriver.support.ui import WebDriverWait, Select\n",
    "from selenium.webdriver.support import expected_conditions as EC\n",
    "from selenium.common.exceptions import SessionNotCreatedException, TimeoutException\n",
    "from bs4 import BeautifulSoup\n",
    "from selenium.webdriver.support.wait import WebDriverWait\n",
    "from selenium.webdriver.support import expected_conditions as ec\n",
    "from selenium.common.exceptions import TimeoutException\n",
    "import requests\n",
    "import time\n",
    "from selenium.webdriver.support.ui import Select\n",
    "import urllib.request\n",
    "\n",
    "import urllib.request\n",
    "import os\n",
    "from selenium.webdriver.support.ui import Select\n",
    "from selenium.webdriver.common.keys import Keys\n",
    "import pandas as pd\n",
    "import time\n",
    "import re"
   ]
  },
  {
   "cell_type": "code",
   "execution_count": 7,
   "metadata": {},
   "outputs": [],
   "source": [
    "driver=webdriver.Chrome(\"chromedriver.exe\")\n",
    "driver.get(\"https://www.glassdoor.co.in/index.html\")\n",
    "\n",
    "WebDriverWait(driver,2).until(EC.element_to_be_clickable((By.XPATH,'/html/body/div[2]/div/div/div/div/div[1]/article/header/nav/div[2]/div/div/div/button'))).click()\n",
    "WebDriverWait(driver,2).until(EC.element_to_be_clickable((By.XPATH,'//*[@id=\"userEmail\"]'))).send_keys('arvindmkumaran2010@gmail.com')\n",
    "WebDriverWait(driver,2).until(EC.element_to_be_clickable((By.XPATH,'//*[@id=\"userPassword\"]'))).send_keys(\"saibaba9\")\n",
    "driver.find_element_by_xpath('//*[@id=\"userPassword\"]').send_keys(Keys.ENTER)\n",
    "time.sleep(5)\n",
    "driver.find_element_by_id('sc.keyword').send_keys(\"Data Scientist\")\n",
    "driver.find_element_by_xpath('//*[@id=\"sc.location\"]').clear()\n",
    "for i in range(0,20):\n",
    "    driver.find_element_by_xpath('//*[@id=\"sc.location\"]').send_keys(Keys.BACKSPACE)\n",
    "driver.find_element_by_xpath('//*[@id=\"sc.location\"]').send_keys(\"noida\")\n",
    "driver.find_element_by_xpath('//*[@id=\"sc.location\"]').send_keys(Keys.ENTER)\n",
    "time.sleep(20)\n",
    "res = driver.page_source\n",
    "soup = BeautifulSoup(res, 'html.parser')\n",
    "name_of_com=soup.find_all('div',{'class':'d-flex flex-column pl-sm css-1d3xmk8 e1rrn5ka4'})"
   ]
  },
  {
   "cell_type": "code",
   "execution_count": 8,
   "metadata": {},
   "outputs": [
    {
     "name": "stdout",
     "output_type": "stream",
     "text": [
      "Taboola\n",
      "Bechtel\n",
      "Data Patterns\n",
      "Lantern Digital Services\n",
      "Priority Vendor\n",
      "Biz2Credit Inc\n",
      "Ericsson\n",
      "Crowe\n",
      "Techlive\n",
      "Gauge Data Solutions\n",
      "WishFin\n",
      "Team Computers\n",
      "MobiKwik\n",
      "United Airlines Inc.\n",
      "SearchUrCollege\n",
      "xtLytics\n",
      "Dürr IT Services India\n",
      "Jubna\n",
      "Ank Aha\n",
      "Dürr Somac GmbH\n",
      "Profisor Services\n",
      "Mahajan Imaging\n",
      "ESRI, Inc.\n",
      "Analytics Vidhya\n",
      "UnitedHealth Group\n",
      "The Luxury Closet\n",
      "Fitfyles\n",
      "Saffron Consultancy Services\n",
      "CSTEP\n",
      "Jubna\n",
      "Axslogic\n",
      "IMMO\n",
      "4d\n",
      "15d\n",
      "24h\n",
      "6d\n",
      "12d\n",
      "20d\n",
      "11d\n",
      "12d\n",
      "18d\n",
      "12d\n",
      "23d\n",
      "24h\n",
      "24h\n",
      "3d\n",
      "12d\n",
      "26d\n",
      "3d\n",
      "12d\n",
      "12d\n",
      "3d\n",
      "12d\n",
      "12d\n",
      "21d\n",
      "12d\n",
      "24h\n",
      "11d\n",
      "12d\n",
      "12d\n",
      "24h\n",
      "27d\n",
      "10d\n",
      "17d\n",
      "4.2\n",
      "3.9\n",
      "3.0\n",
      "3.5\n",
      "3.7\n",
      "3.7\n",
      "4.1\n",
      "3.8\n",
      "5.0\n",
      "3.0\n",
      "3.8\n",
      "4.1\n",
      "3.9\n",
      "4.1\n",
      "4.0\n",
      "4.0\n",
      "4.5\n",
      "4.0\n",
      "4.0\n",
      "3.7\n",
      "3.7\n",
      "3.4\n",
      "3.1\n",
      "4.3\n"
     ]
    }
   ],
   "source": [
    "for name_of_com in name_of_com:\n",
    "    name=name_of_com.find_all('span')\n",
    "    print(name[0].text)\n",
    "days_ago=soup.find_all('div',{'class':'d-flex align-items-end pl-std css-mi55ob'})    \n",
    "for days in days_ago:\n",
    "    print(days.text) \n",
    "rating=soup.find_all('span',{'class','css-19pjha7 e1cjmv6j1'})\n",
    "for rat in rating:\n",
    "    print(rat.text)"
   ]
  },
  {
   "cell_type": "markdown",
   "metadata": {},
   "source": [
    "# 5th question"
   ]
  },
  {
   "cell_type": "markdown",
   "metadata": {},
   "source": [
    "Q5: Write a python program to scrape the salary data for Data Scientist designation\n",
    "in Noida location "
   ]
  },
  {
   "cell_type": "code",
   "execution_count": 74,
   "metadata": {},
   "outputs": [],
   "source": [
    "from selenium import webdriver\n",
    "from selenium.webdriver.support import expected_conditions as ec\n",
    "from selenium.webdriver.support.ui import WebDriverWait\n",
    "from selenium.common.exceptions import NoSuchElementException\n",
    "from selenium.webdriver.common.keys import Keys\n",
    "from selenium.webdriver.common.by import By\n",
    "\n",
    "from bs4 import BeautifulSoup\n",
    "from urllib.request import Request, urlopen\n",
    "\n",
    "\n",
    "import time\n",
    "from getpass import getpass\n",
    "import pandas as pd\n",
    "\n",
    "global user_mail, password"
   ]
  },
  {
   "cell_type": "code",
   "execution_count": 85,
   "metadata": {},
   "outputs": [],
   "source": [
    "def isElementPresent(locator,elem=\"xpath\"):\n",
    "    try:\n",
    "        if elem == \"class_name\":\n",
    "            browser.find_element_by_class_name(locator)\n",
    "        else:\n",
    "            browser.find_element_by_xpath(locator)\n",
    "    except NoSuchElementException:\n",
    "        return False\n",
    "    return True\n",
    "\n",
    "def SignIn(user_mail, password):\n",
    "    mail_xpath = '//*[@id=\"userEmail\"]'\n",
    "    mail_field = wait.until(ec.element_to_be_clickable((By.XPATH, mail_xpath)))\n",
    "    mail_field.send_keys(user_mail)\n",
    "    pass_xpath = '//*[@id=\"userPassword\"]'\n",
    "    pass_field = wait.until(ec.element_to_be_clickable((By.XPATH, pass_xpath)))\n",
    "    pass_field.send_keys(password)\n",
    "\n",
    "    signin_xpath = '//*[@id=\"LoginModal\"]/div/div/div[2]/div[2]/div[2]/div/div/div/div[3]/form/div[3]/div[1]/button'\n",
    "    signin_button = wait.until(ec.element_to_be_clickable((By.XPATH, signin_xpath)))\n",
    "    signin_button.click()\n",
    "def search():\n",
    "    title_xpath = '//*[@id=\"sc.keyword\"]'\n",
    "    location_xpath = '//*[@id=\"sc.location\"]'\n",
    "    title_field = wait.until(ec.element_to_be_clickable((By.XPATH, title_xpath)))\n",
    "    title_field.send_keys(\"Data Scientist\")\n",
    "    loc_field = wait.until(ec.element_to_be_clickable((By.XPATH, location_xpath)))\n",
    "    for i in range(20):\n",
    "        loc_field.send_keys(Keys.BACKSPACE)\n",
    "    loc_field.send_keys(\"Noida\")\n",
    "    #Click on search\n",
    "    search_button = wait.until(ec.element_to_be_clickable((By.XPATH, '//*[@id=\"scBar\"]/div/button/span')))\n",
    "    search_button.click()    "
   ]
  },
  {
   "cell_type": "code",
   "execution_count": 86,
   "metadata": {},
   "outputs": [
    {
     "name": "stdout",
     "output_type": "stream",
     "text": [
      "['Taboola', '5d', '4.2']\n",
      "['Bechtel', '16d', '3.9']\n",
      "['Biz2Credit Inc', '21d', '3.7']\n",
      "['Data Patterns', '1d', '3.0']\n",
      "['Ericsson', '12d', '4.1']\n",
      "['Priority Vendor', '13d', '3.7']\n",
      "['Crowe', '13d', '3.8']\n",
      "['Lantern Digital Services', '7d', '3.5']\n",
      "['Gauge Data Solutions', '13d', '3.0']\n",
      "['Techlive', '19d', '5.0']\n",
      "['WishFin', '24d', '3.8']\n",
      "['United Airlines Inc.', '4d', '4.1']\n",
      "['xtLytics', '27d', ' ']\n",
      "['SearchUrCollege', '13d', ' ']\n",
      "['Team Computers', '1d', '4.1']\n",
      "['MasterCard', '24h', '4.3']\n",
      "['Jubna', '13d', ' ']\n",
      "['UnitedHealth Group', '1d', '3.7']\n",
      "['Mahajan Imaging', '13d', '4.0']\n",
      "['MobiKwik', '1d', '3.9']\n",
      "['CRMNEXT', '12d', '3.7']\n",
      "['Knoldus Inc', '11d', '4.1']\n",
      "['Profisor Services', '13d', '4.5']\n",
      "['CSTEP', '1d', '3.1']\n",
      "['Analytics Vidhya', '13d', '3.7']\n",
      "['ANI Calls India Private Limited', '3d', ' ']\n",
      "['Ank Aha', '13d', '4.0']\n",
      "['The Luxury Closet', '12d', '3.4']\n",
      "['Fitfyles', '13d', ' ']\n",
      "['Saffron Consultancy Services', '13d', ' ']\n",
      "['ESRI, Inc.', '22d', '4.0']\n",
      "['Dürr IT Services India', '4d', '4.0']\n"
     ]
    }
   ],
   "source": [
    "if __name__==\"__main__\":\n",
    "    #Take credentials from user\n",
    "    #user_mail = input(\"Enter mail : \")\n",
    "    #password = getpass(\"Enter Password : \")\n",
    "    user_mail = \"arvindmkumaran2010@gmail.com\"\n",
    "    password = \"saibaba9\"\n",
    "\n",
    "    browser = webdriver.Chrome()\n",
    "    browser.get(\"https://www.glassdoor.co.in/index.htm\")\n",
    "    wait = WebDriverWait(browser, 600)\n",
    "\n",
    "    #Click on SignIn bitton\n",
    "    signin_xpath = '//*[@id=\"SiteNav\"]/nav/div[2]/div/div/div/button'\n",
    "    signin_button = wait.until(ec.element_to_be_clickable((By.XPATH, signin_xpath)))\n",
    "    signin_button.click()\n",
    "\n",
    "    #SignIn with credentials\n",
    "    SignIn(user_mail, password)\n",
    "\n",
    "    #Search for Data Scientist in Noida\n",
    "    search()\n",
    "\n",
    "    #wait till page loads\n",
    "    time.sleep(5)\n",
    "    wait.until(ec.element_to_be_clickable((By.XPATH, '//*[@id=\"SiteNav\"]/nav[2]/div/div[1]/div[1]/div/a')))\n",
    "    html = browser.page_source\n",
    "    soup = BeautifulSoup(html, \"html.parser\")\n",
    "\n",
    "    companies = soup.find_all(\"div\", {\"class\":\"d-flex flex-column pl-sm css-1d3xmk8 e1rrn5ka4\"})\n",
    "    ratings = soup.find_all(\"div\",{\"class\":\"d-flex flex-column css-x75kgh e1rrn5ka3\"})\n",
    "\n",
    "for i, company in enumerate(companies):\n",
    "        data = []\n",
    "        name = company.find(\"div\",{\"class\":\"d-flex justify-content-between align-items-start\"}).get_text()\n",
    "        data.append(name)\n",
    "        days = company.find(\"div\",{\"data-test\":\"job-age\"}).get_text()\n",
    "        data.append(days)\n",
    "        try:\n",
    "            rating = ratings[i].find(\"span\",{\"class\":\"css-19pjha7 e1cjmv6j1\"}).get_text()\n",
    "            data.append(rating)\n",
    "        except:\n",
    "            rating = \" \"\n",
    "            data.append(rating)\n",
    "        print(data)                       "
   ]
  },
  {
   "cell_type": "markdown",
   "metadata": {},
   "source": [
    "# 9th question"
   ]
  },
  {
   "cell_type": "markdown",
   "metadata": {},
   "source": [
    "Q9: Go to the link - https://www.myntra.com/shoes\n",
    "Set Price filter to “Rs. 6649 to Rs. 13099” , Color filter to “Black”, as shown in\n",
    "the below image"
   ]
  },
  {
   "cell_type": "code",
   "execution_count": 69,
   "metadata": {},
   "outputs": [],
   "source": [
    "url = \"https://www.myntra.com/shoes\"\n",
    "driver.get(url)"
   ]
  },
  {
   "cell_type": "code",
   "execution_count": 70,
   "metadata": {},
   "outputs": [
    {
     "name": "stdout",
     "output_type": "stream",
     "text": [
      "Len of price_list =  25\n",
      "Len of color_list =  7\n",
      "1 :  Heel & Buckle London\n",
      "2 :  Nike\n",
      "3 :  Nike\n",
      "4 :  Nike\n",
      "5 :  Nike\n",
      "6 :  Nike\n",
      "7 :  Nike\n",
      "8 :  Nike\n",
      "9 :  Nike\n",
      "10 :  ASICS\n",
      "11 :  PUMA Motorsport\n",
      "12 :  Hush Puppies\n",
      "13 :  UNDER ARMOUR\n",
      "14 :  FORCLAZ By Decathlon\n",
      "15 :  Nike\n",
      "16 :  UNDER ARMOUR\n",
      "17 :  Puma\n",
      "18 :  Cole Haan\n",
      "19 :  UNDER ARMOUR\n",
      "20 :  Puma\n",
      "21 :  UNDER ARMOUR\n",
      "22 :  ASICS\n",
      "23 :  ASICS\n",
      "24 :  Teakwood Leathers\n",
      "25 :  ALDO\n",
      "26 :  ASICS\n",
      "27 :  UNDER ARMOUR\n",
      "28 :  Reebok\n",
      "29 :  Teakwood Leathers\n",
      "30 :  ADIDAS\n",
      "31 :  Puma\n",
      "32 :  Puma\n",
      "33 :  Saint G\n",
      "34 :  UNDER ARMOUR\n",
      "35 :  Cole Haan\n",
      "36 :  Puma\n",
      "37 :  UNDER ARMOUR\n",
      "38 :  J.FONTINI\n",
      "39 :  Saint G\n",
      "40 :  UNDER ARMOUR\n",
      "41 :  Geox\n",
      "42 :  Kalenji By Decathlon\n",
      "43 :  Kenneth Cole\n",
      "44 :  DAVINCHI\n",
      "45 :  Ruosh\n",
      "46 :  Bugatti\n",
      "47 :  J.FONTINI\n",
      "48 :  ADIDAS\n",
      "49 :  Ruosh\n",
      "50 :  Puma\n",
      "51 :  ADIDAS\n",
      "52 :  Puma\n",
      "53 :  Puma\n",
      "54 :  Levis\n",
      "55 :  FILA\n",
      "56 :  Levis\n",
      "57 :  Cole Haan\n",
      "58 :  FILA\n",
      "59 :  Teakwood Leathers\n",
      "60 :  FILA\n",
      "61 :  Ruosh\n",
      "62 :  Teakwood Leathers\n",
      "63 :  ADIDAS Originals\n",
      "64 :  Puma\n",
      "65 :  VIONIC\n",
      "66 :  J.FONTINI\n",
      "67 :  Saint G\n",
      "68 :  Hush Puppies\n",
      "69 :  Nike\n",
      "70 :  Hush Puppies\n",
      "71 :  Reebok\n",
      "72 :  Heel & Buckle London\n",
      "73 :  Nike\n",
      "74 :  Nike\n",
      "75 :  Heel & Buckle London\n",
      "76 :  Saint G\n",
      "77 :  Saint G\n",
      "78 :  ADIDAS\n",
      "79 :  Cole Haan\n",
      "80 :  Heel & Buckle London\n",
      "81 :  Nike\n",
      "82 :  Nike\n",
      "83 :  Cole Haan\n",
      "84 :  Lacoste\n",
      "85 :  UNDER ARMOUR\n",
      "86 :  FILA\n",
      "87 :  Lacoste\n",
      "88 :  Reebok\n",
      "89 :  Geox\n",
      "90 :  Nike\n",
      "91 :  UNDER ARMOUR\n",
      "92 :  Cole Haan\n",
      "93 :  Heel & Buckle London\n",
      "94 :  UNDER ARMOUR\n",
      "95 :  Heel & Buckle London\n",
      "96 :  ASICS\n",
      "97 :  Ruosh\n",
      "98 :  Bugatti\n",
      "99 :  Nike\n",
      "100 :  Ruosh\n",
      "1 :  Women Peep Toe Heels\n",
      "2 :  Unisex COSMIC UNITY Basketball\n",
      "3 :  Men JORDAN DELTA Basketball\n",
      "4 :  Women REACT Running Shoes\n",
      "5 :  Men ZOOM FREAK 2 Basketball\n",
      "6 :  Men KD13 EP Basketball Shoes\n",
      "7 :  Unisex LEBRON XVIII Basketball\n",
      "8 :  Women PEGASUS 37 Running Shoes\n",
      "9 :  Men JOYRIDE Running Shoes\n",
      "10 :  Men Running Shoes\n",
      "11 :  Unisex Mercedes Running Shoes\n",
      "12 :  Men Solid Leather Formal Slip-Ons\n",
      "13 :  Men HOVR Strt Walking Shoes\n",
      "14 :  TREKKING 100 Boots\n",
      "15 :  Men JORDAN DELTA Sneakers\n",
      "16 :  Charged Rogue 2 Wide 2E Shoes\n",
      "17 :  Unisex RS-Fast Nano Sneakers\n",
      "18 :  Men ZEROGRAND GLOBAL SLIP ON\n",
      "19 :  Women TriBase Reign 2 Training\n",
      "20 :  Men UltraRide Running Shoes\n",
      "21 :  Men Liquify Running Shoes\n",
      "22 :  Women Running Shoes\n",
      "23 :  Men Black Sports Shoes\n",
      "24 :  Men NA Colourblocked Leather Loafers\n",
      "25 :  Men Solid Leather Formal Loafers\n",
      "26 :  Women Running Shoes\n",
      "27 :  Women HOVR Rise 2 Training\n",
      "28 :  Forever Floatride Energy 2\n",
      "29 :  Men NA Leather Monks\n",
      "30 :  Women SUPERNOVA Running Shoes\n",
      "31 :  Women Provoke XT Training\n",
      "32 :  Unisex RS-X Pop Sneakers\n",
      "33 :  Men Leather Chelsea Boots\n",
      "34 :  Women Charged Breathe OIL SLK\n",
      "35 :  Men Wingtip Oxford Sneakers\n",
      "36 :  Ralph Sampson Leather Sneakers\n",
      "37 :  HOVR Sonic 3 Running Shoes\n",
      "38 :  Men Textured Leather Loafers\n",
      "39 :  Men Textured Leather Formal Loafers\n",
      "40 :  Charged Impulse Running Shoes\n",
      "41 :  Men Leather Formal Derbys\n",
      "42 :  Men KD500 Running Shoe\n",
      "43 :  Women Solid Flat Boots\n",
      "44 :  Ustraa black\n",
      "45 :  Men Solid Leather Formal Slip-Ons\n",
      "46 :  Women Black Sneakers\n",
      "47 :  Men Textured Leather Loafers\n",
      "48 :  Men SOLAR DRIVE 19 M Running\n",
      "49 :  Men Solid Leather Formal Monks\n",
      "50 :  Future Rider Twofold Sneakers\n",
      "51 :  Women Edge Lux 4 Running\n",
      "52 :  Men Football Shoes\n",
      "53 :  Men Liberate Nitro Running\n",
      "54 :  Men Solid Sneakers\n",
      "55 :  Men Leather Sneakers\n",
      "56 :  Men Solid Sneakers\n",
      "57 :  Leather Sneakers\n",
      "58 :  Men Solid Sneakers\n",
      "59 :  Men NA Colourblocked Leather Loafers\n",
      "60 :  Men Sneakers\n",
      "61 :  Men Textured Leather Monks\n",
      "62 :  Men NA Leather Monks\n",
      "63 :  Men ZX 2K Boost Solid Sneakers\n",
      "64 :  Men IGNITE Dual Running Shoes\n",
      "65 :  Men Textured Sneakers\n",
      "66 :  Men Textured Leather Loafers\n",
      "67 :  Men Leather Chelsea Boots\n",
      "68 :  Men Colourblocked Driving Shoes\n",
      "69 :  Men JORDAN ONE TAKE II Shoes\n",
      "70 :  Men Leather Slip-On Sneakers\n",
      "71 :  Women Nanoflex Training Shoes\n",
      "72 :  Women Solid Leather Gladiators\n",
      "73 :  Men ZOOM WINFLO 6 Running\n",
      "74 :  Men AIR ZOOM PEGASUS 38 Run\n",
      "75 :  Women Solid Leather Heels\n",
      "76 :  Women Heeled Boots\n",
      "77 :  Women Leather Heeled Boots\n",
      "78 :  Women Supernova+ Running\n",
      "79 :  Women Open Toe Flats\n",
      "80 :  Women Peep Toe Heels\n",
      "81 :  Men REACT MILER 2 Running\n",
      "82 :  Men AIR FLIGHT 89 Sneakers\n",
      "83 :  Women Solid Leather Ballerinas\n",
      "84 :  Men Woven Design Sneakers\n",
      "85 :  Charged Pursuit 2 Running\n",
      "86 :  Women Sneakers\n",
      "87 :  Men Woven Design Slip-On Sneakers\n",
      "88 :  Unisex Zig Kinetica II Running\n",
      "89 :  Women Leather Boat Shoes\n",
      "90 :  Men REACT MILER 2 Running\n",
      "91 :  Liquify Rebel Running Shoes\n",
      "92 :  Women Woven Design Sneakers\n",
      "93 :  Men Leather Formal Oxfords\n",
      "94 :  Charged RC Sportstyle Sneakers\n",
      "95 :  Women Leather Pumps\n",
      "96 :  Men Running Shoes\n",
      "97 :  Men Solid Leather Formal Monks\n",
      "98 :  Women Solid Block Heels\n",
      "99 :  Women AIR MAX VIVA Sneakers\n",
      "100 :  Men Formal Leather Brogues\n",
      "Len of prices:  50\n",
      "Rs. 7192\n",
      "Rs. 11470\n",
      "Rs. 12495\n",
      "Rs. 7796\n",
      "Rs. 7721\n",
      "Rs. 12995\n",
      "Rs. 12316\n",
      "Rs. 7496\n",
      "Rs. 11246\n",
      "Rs. 6999\n",
      "Rs. 7999\n",
      "Rs. 8999\n",
      "Rs. 9999\n",
      "Rs. 6999\n",
      "Rs. 10995\n",
      "Rs. 7999\n",
      "Rs. 7499\n",
      "Rs. 11999\n",
      "Rs. 8999\n",
      "Rs. 7199\n",
      "Rs. 8799\n",
      "Rs. 9799\n",
      "Rs. 9999\n",
      "Rs. 7999\n",
      "Rs. 9999\n",
      "Rs. 6999\n",
      "Rs. 7499\n",
      "Rs. 9999\n",
      "Rs. 6999\n",
      "Rs. 6999\n",
      "Rs. 7999\n",
      "Rs. 7999\n",
      "Rs. 11305\n",
      "Rs. 6749\n",
      "Rs. 12999\n",
      "Rs. 6799\n",
      "Rs. 10999\n",
      "Rs. 6990\n",
      "Rs. 9975\n",
      "Rs. 7999\n",
      "Rs. 8617\n",
      "Rs. 7857\n",
      "Rs. 9513\n",
      "Rs. 8990\n",
      "Rs. 6990\n",
      "Rs. 7999\n",
      "Rs. 6990\n",
      "Rs. 7199\n",
      "Rs. 6990\n",
      "Rs. 6999\n",
      "Rs. 7999\n",
      "Rs. 11899\n",
      "Rs. 9999\n",
      "Rs. 6999\n",
      "Rs. 7999\n",
      "Rs. 6999\n",
      "Rs. 10999\n",
      "Rs. 7499\n",
      "Rs. 7999\n",
      "Rs. 6999\n",
      "Rs. 6990\n",
      "Rs. 6999\n",
      "Rs. 7699\n",
      "Rs. 6999\n",
      "Rs. 7039\n",
      "Rs. 7690\n",
      "Rs. 11305\n",
      "Rs. 8999\n",
      "Rs. 7465\n",
      "Rs. 9999\n",
      "Rs. 7599\n",
      "Rs. 6993\n",
      "Rs. 7195\n",
      "Rs. 9995\n",
      "Rs. 6993\n",
      "Rs. 7440\n",
      "Rs. 6675\n",
      "Rs. 7799\n",
      "Rs. 8399\n",
      "Rs. 7192\n",
      "Rs. 8621\n",
      "Rs. 7721\n",
      "Rs. 9799\n",
      "Rs. 8500\n",
      "Rs. 6999\n",
      "Rs. 8999\n",
      "Rs. 8500\n",
      "Rs. 9999\n",
      "Rs. 6742\n",
      "Rs. 8621\n",
      "Rs. 8999\n",
      "Rs. 6749\n",
      "Rs. 7693\n",
      "Rs. 8999\n",
      "Rs. 7192\n",
      "Rs. 11999\n",
      "Rs. 6990\n",
      "Rs. 8499\n",
      "Rs. 12495\n",
      "Rs. 7490\n"
     ]
    }
   ],
   "source": [
    "driver.get(\"https://www.myntra.com/shoes\")\n",
    "price_list = driver.find_elements_by_xpath(\"//div[@class='common-checkboxIndicator']\")\n",
    "#price_list = price_list.find_elements_by_xpath(\"/label[@class='common-customCheckbox vertical-filters-label']\")\n",
    "print(\"Len of price_list = \", len(price_list))\n",
    "price_list[15].click()\n",
    "time.sleep(5)\n",
    "#price_list[1].find_element_by_xpath(\"//div[@class='common-checkboxIndicator']\").click()\n",
    "# div.common-checkboxIndicator\n",
    "color_list = driver.find_elements_by_xpath(\"//ul/li[@class='colour-listItem']\")\n",
    "print(\"Len of color_list = \", len(color_list))\n",
    "color_list[0].find_element_by_xpath(\"//label[@class='common-customCheckbox']\").click()\n",
    "\n",
    "time.sleep(5)\n",
    "# brand, desc, prices\n",
    "brands = driver.find_elements_by_xpath(\"//h3[@class='product-brand']\")\n",
    "prices = driver.find_elements_by_xpath(\"//div[@class='product-price']\")\n",
    "\n",
    "counter = 1\n",
    "for brand in brands:\n",
    "    print(counter, \": \", brand.text)\n",
    "    counter += 1\n",
    "\n",
    "driver.find_element_by_xpath(\"//a[@rel='next']\").click()\n",
    "time.sleep(5)\n",
    " \n",
    "brands = driver.find_elements_by_xpath(\"//h3[@class='product-brand']\")\n",
    "for brand in brands:\n",
    "    print(counter, \": \", brand.text)\n",
    "    counter += 1\n",
    "\n",
    "\n",
    "driver.find_element_by_xpath(\"//a[@rel='prev']\").click()\n",
    "time.sleep(5)\n",
    "\n",
    "descs = driver.find_elements_by_xpath(\"//h4[@class='product-product']\")\n",
    "counter = 1\n",
    "for desc in descs:\n",
    "    print(counter, \": \", desc.text)\n",
    "    counter += 1\n",
    "\n",
    "driver.find_element_by_xpath(\"//a[@rel='next']\").click()\n",
    "time.sleep(5)\n",
    " \n",
    "descs = driver.find_elements_by_xpath(\"//h4[@class='product-product']\")\n",
    "for desc in descs:\n",
    "    print(counter, \": \", desc.text)\n",
    "    counter += 1\n",
    "\n",
    "driver.find_element_by_xpath(\"//a[@rel='prev']\").click()\n",
    "time.sleep(5)\n",
    "prices = driver.find_elements_by_xpath(\"//div[@class='product-price']\")\n",
    "print(\"Len of prices: \", len(prices))\n",
    "for price in prices:\n",
    "    try:\n",
    "        print(price.find_element_by_class_name(\"product-discountedPrice\").text)\n",
    "    except:\n",
    "        print(price.find_element_by_tag_name(\"span\").text)\n",
    "\n",
    "driver.find_element_by_xpath(\"//a[@rel='next']\").click()\n",
    "time.sleep(5)\n",
    "prices = driver.find_elements_by_xpath(\"//div[@class='product-price']\")\n",
    "for price in prices:\n",
    "    try:\n",
    "        print(price.find_element_by_class_name(\"product-discountedPrice\").text)\n",
    "    except:\n",
    "        print(price.find_element_by_tag_name(\"span\").text)\n"
   ]
  },
  {
   "cell_type": "markdown",
   "metadata": {},
   "source": [
    "# 6th question"
   ]
  },
  {
   "cell_type": "markdown",
   "metadata": {},
   "source": [
    "Q6 : Scrape data of first 100 sunglasses listings on flipkart.com. You have to\n",
    "scrape four attributes:"
   ]
  },
  {
   "cell_type": "code",
   "execution_count": 10,
   "metadata": {},
   "outputs": [],
   "source": [
    "driver=webdriver.Chrome(\"chromedriver.exe\")"
   ]
  },
  {
   "cell_type": "code",
   "execution_count": 11,
   "metadata": {},
   "outputs": [],
   "source": [
    "url = 'https://www.flipkart.com/'\n",
    "driver.get(url)"
   ]
  },
  {
   "cell_type": "code",
   "execution_count": 12,
   "metadata": {},
   "outputs": [
    {
     "data": {
      "text/plain": [
       "<selenium.webdriver.remote.webelement.WebElement (session=\"2094893168192ce322b3ec50b2a18b51\", element=\"11684ba5-5c74-4637-9859-c61dd6be6678\")>"
      ]
     },
     "execution_count": 12,
     "metadata": {},
     "output_type": "execute_result"
    }
   ],
   "source": [
    "driver.get(\"https://www.flipkart.com\")\n",
    "driver.find_element_by_xpath('//input[@class=\"_3704LK\"]')\n",
    "\n",
    "\n"
   ]
  },
  {
   "cell_type": "code",
   "execution_count": 13,
   "metadata": {},
   "outputs": [],
   "source": [
    "query = driver.find_element_by_xpath(\"//input[@class='_3704LK']\")\n",
    "query.send_keys(\"sunglasses\")\n",
    "driver.find_element_by_xpath(\"//button[@class='L0Z3Pu']\").click()\n"
   ]
  },
  {
   "cell_type": "code",
   "execution_count": 14,
   "metadata": {},
   "outputs": [
    {
     "name": "stdout",
     "output_type": "stream",
     "text": [
      "40\n"
     ]
    }
   ],
   "source": [
    "time.sleep(20)\n",
    "\n",
    "# brand, product desc, price, discount\n",
    "brand = driver.find_elements_by_xpath(\"//div[@class='_2WkVRV']\")\n",
    "print(len(brand))\n",
    "pro_desc = driver.find_elements_by_xpath(\"//a[@class='IRpwTa _2-ICcC']\")\n",
    "price = driver.find_elements_by_xpath(\"//div[@class='_30jeq3']\")\n",
    "discount = driver.find_elements_by_xpath(\"//div[@class='_3Ay6Sb']/span\")"
   ]
  },
  {
   "cell_type": "code",
   "execution_count": 15,
   "metadata": {},
   "outputs": [
    {
     "name": "stdout",
     "output_type": "stream",
     "text": [
      "1 :  ROYAL SON\n",
      "1 :  VINCENT CHASE\n",
      "1 :  PIRASO\n",
      "1 :  Fastrack\n",
      "1 :  PIRASO\n",
      "1 :  Fastrack\n",
      "1 :  PIRASO\n",
      "1 :  ROYAL SON\n",
      "1 :  ROYAL SON\n",
      "1 :  DEIXELS\n",
      "1 :  PIRASO\n",
      "1 :  ROYAL SON\n",
      "1 :  Singco India\n",
      "1 :  Fastrack\n",
      "1 :  Singco\n",
      "1 :  ROYAL SON\n",
      "1 :  ROZZETTA CRAFT\n",
      "1 :  PHENOMENAL\n",
      "1 :  NuVew\n",
      "1 :  AISLIN\n",
      "1 :  GANSTA\n",
      "1 :  PIRASO\n",
      "1 :  HIPPON\n",
      "1 :  Villain\n",
      "1 :  Fastrack\n",
      "1 :  PHENOMENAL\n",
      "1 :  ROYAL SON\n",
      "1 :  Singco India\n",
      "1 :  Silver Kartz\n",
      "1 :  ROZZETTA CRAFT\n",
      "1 :  Fastrack\n",
      "1 :  Villain\n",
      "1 :  hipe\n",
      "1 :  ROYAL SON\n",
      "1 :  PIRASO\n",
      "1 :  ROYAL SON\n",
      "1 :  ROZZETTA CRAFT\n",
      "1 :  Singco India\n",
      "1 :  ROYAL SON\n",
      "1 :  VINCENT CHASE\n"
     ]
    }
   ],
   "source": [
    "list_brand = []\n",
    "list_desc = []\n",
    "list_price = []\n",
    "list_discount = []\n",
    "\n",
    "# PAGE 1\n",
    "counter = 1\n",
    "for b in brand:\n",
    "    print(counter, \": \", b.text)\n",
    "list_brand.append(b.text)\n",
    "counter += 1\n",
    "    \n",
    "    \n",
    "    "
   ]
  },
  {
   "cell_type": "code",
   "execution_count": 16,
   "metadata": {},
   "outputs": [
    {
     "name": "stdout",
     "output_type": "stream",
     "text": [
      "2 :  elegante\n",
      "2 :  PIRASO\n",
      "2 :  NuVew\n",
      "2 :  ROYAL SON\n",
      "2 :  Poland\n",
      "2 :  PHENOMENAL\n",
      "2 :  ROZZETTA CRAFT\n",
      "2 :  AISLIN\n",
      "2 :  Flizz\n",
      "2 :  hipe\n",
      "2 :  ROZZETTA CRAFT\n",
      "2 :  NuVew\n",
      "2 :  Fastrack\n",
      "2 :  Singco India\n",
      "2 :  hipe\n",
      "2 :  AISLIN\n",
      "2 :  ROZZETTA CRAFT\n",
      "2 :  Fastrack\n",
      "2 :  NuVew\n",
      "2 :  ROYAL SON\n",
      "2 :  GANSTA\n",
      "2 :  PHENOMENAL\n",
      "2 :  Fastrack\n",
      "2 :  DEIXELS\n",
      "2 :  Fastrack\n",
      "2 :  NuVew\n",
      "2 :  hipe\n",
      "2 :  NuVew\n",
      "2 :  Fastrack\n",
      "2 :  NuVew\n",
      "2 :  PIRASO\n",
      "2 :  AISLIN\n",
      "2 :  Fravy\n",
      "2 :  hipe\n",
      "2 :  GANSTA\n",
      "2 :  NuVew\n",
      "2 :  DEIXELS\n",
      "2 :  Fastrack\n",
      "2 :  DEIXELS\n",
      "2 :  NuVew\n"
     ]
    }
   ],
   "source": [
    "# PAGE 2: click the next button\n",
    "driver.find_element_by_xpath(\"//a[@class='_1LKTO3']\").click()\n",
    "time.sleep(15)\n",
    "brand = driver.find_elements_by_xpath(\"//div[@class='_2WkVRV']\")\n",
    "for b in brand:\n",
    "    if counter == 101:\n",
    "        break\n",
    "    else:\n",
    "        print(counter, \": \", b.text)\n",
    "list_brand.append(b.text)\n",
    "counter += 1"
   ]
  },
  {
   "cell_type": "code",
   "execution_count": 17,
   "metadata": {},
   "outputs": [
    {
     "name": "stdout",
     "output_type": "stream",
     "text": [
      "3 :  ROYAL SON\n",
      "3 :  VINCENT CHASE\n",
      "3 :  PIRASO\n",
      "3 :  Fastrack\n",
      "3 :  PIRASO\n",
      "3 :  Fastrack\n",
      "3 :  PIRASO\n",
      "3 :  ROYAL SON\n",
      "3 :  ROYAL SON\n",
      "3 :  DEIXELS\n",
      "3 :  PIRASO\n",
      "3 :  ROYAL SON\n",
      "3 :  Singco India\n",
      "3 :  Fastrack\n",
      "3 :  Singco\n",
      "3 :  ROYAL SON\n",
      "3 :  ROZZETTA CRAFT\n",
      "3 :  PHENOMENAL\n",
      "3 :  NuVew\n",
      "3 :  AISLIN\n",
      "3 :  GANSTA\n",
      "3 :  PIRASO\n",
      "3 :  HIPPON\n",
      "3 :  Villain\n",
      "3 :  Fastrack\n",
      "3 :  PHENOMENAL\n",
      "3 :  ROYAL SON\n",
      "3 :  Singco India\n",
      "3 :  Silver Kartz\n",
      "3 :  ROZZETTA CRAFT\n",
      "3 :  Fastrack\n",
      "3 :  Villain\n",
      "3 :  hipe\n",
      "3 :  ROYAL SON\n",
      "3 :  PIRASO\n",
      "3 :  ROYAL SON\n",
      "3 :  ROZZETTA CRAFT\n",
      "3 :  Singco India\n",
      "3 :  ROYAL SON\n",
      "3 :  NuVew\n"
     ]
    }
   ],
   "source": [
    "# PAGE 3: click the next button\n",
    "driver.find_element_by_xpath(\"//a[@class='_1LKTO3']\").click()\n",
    "time.sleep(15)\n",
    "brand = driver.find_elements_by_xpath(\"//div[@class='_2WkVRV']\")\n",
    "for b in brand:\n",
    "    if counter == 101:\n",
    "        break\n",
    "    else:\n",
    "        print(counter, \": \", b.text)\n",
    "list_brand.append(b.text)\n",
    "counter += 1"
   ]
  },
  {
   "cell_type": "code",
   "execution_count": 18,
   "metadata": {},
   "outputs": [
    {
     "name": "stdout",
     "output_type": "stream",
     "text": [
      "len:  39\n",
      "1 :  Polarized, UV Protection Round Sunglasses (49)\n",
      "1 :  by Lenskart UV Protection Wayfarer Sunglasses (49)\n",
      "1 :  UV Protection Aviator Sunglasses (54)\n",
      "1 :  UV Protection Rectangular Sunglasses (Free Size)\n",
      "1 :  UV Protection Aviator Sunglasses (54)\n",
      "1 :  Gradient, UV Protection Wayfarer Sunglasses (Free Size)\n",
      "1 :  UV Protection Aviator Sunglasses (54)\n",
      "1 :  UV Protection, Gradient Wayfarer Sunglasses (55)\n",
      "1 :  UV Protection Aviator, Wayfarer Sunglasses (Free Size)\n",
      "1 :  UV Protection Aviator Sunglasses (58)\n",
      "1 :  UV Protection Retro Square Sunglasses (88)\n",
      "1 :  UV Protection, Riding Glasses, Others Aviator, Wayfarer Sunglasses (55)\n",
      "1 :  UV Protection Aviator Sunglasses (58)\n",
      "1 :  Mirrored Aviator Sunglasses (53)\n",
      "1 :  UV Protection Over-sized Sunglasses (60)\n",
      "1 :  UV Protection, Gradient Rectangular Sunglasses (Free Size)\n",
      "1 :  UV Protection Retro Square Sunglasses (Free Size)\n",
      "1 :  UV Protection Aviator Sunglasses (57)\n",
      "1 :  UV Protection, Gradient Butterfly, Retro Square Sunglasses (58)\n",
      "1 :  UV Protection Aviator Sunglasses (57)\n",
      "1 :  UV Protection Aviator Sunglasses (Free Size)\n",
      "1 :  UV Protection Wayfarer Sunglasses (55)\n",
      "1 :  Others Wayfarer Sunglasses (Free Size)\n",
      "1 :  UV Protection Wayfarer Sunglasses (Free Size)\n",
      "1 :  UV Protection, Mirrored Retro Square Sunglasses (53)\n",
      "1 :  Mirrored Aviator Sunglasses (55)\n",
      "1 :  Mirrored, UV Protection, Riding Glasses, Others Wrap-around, Retro Square, Over-sized Sunglasses (54)\n",
      "1 :  UV Protection Wayfarer Sunglasses (Free Size)\n",
      "1 :  UV Protection Retro Square Sunglasses (Free Size)\n",
      "1 :  UV Protection Aviator Sunglasses (Free Size)\n",
      "1 :  Others Retro Square Sunglasses (Free Size)\n",
      "1 :  Mirrored, UV Protection, Gradient Round Sunglasses (55)\n",
      "1 :  UV Protection Wayfarer Sunglasses (55)\n",
      "1 :  UV Protection Wayfarer Sunglasses (32)\n",
      "1 :  UV Protection, Polarized Wrap-around Sunglasses (52)\n",
      "1 :  UV Protection, Riding Glasses Rectangular Sunglasses (Free Size)\n",
      "1 :  UV Protection Round Sunglasses (Free Size)\n",
      "1 :  UV Protection Rectangular Sunglasses (58)\n",
      "1 :  UV Protection Cat-eye Sunglasses (60)\n"
     ]
    }
   ],
   "source": [
    "## DESCRIPTION\n",
    "\n",
    "counter = 1\n",
    "driver.get(\"https://www.flipkart.com/search?q=sunglasses&otracker=search&otracker1=search&marketplace=FLIPKART&as-show=off&as=off&page=1\")\n",
    "pro_desc = driver.find_elements_by_xpath(\"//a[@class='IRpwTa']\")\n",
    "print(\"len: \", len(pro_desc))\n",
    "for desc in pro_desc:\n",
    "    print(counter, \": \", desc.get_attribute(\"title\"))\n",
    "list_desc.append(desc.get_attribute(\"title\"))\n",
    "counter += 1"
   ]
  },
  {
   "cell_type": "code",
   "execution_count": 19,
   "metadata": {},
   "outputs": [
    {
     "name": "stdout",
     "output_type": "stream",
     "text": [
      "len:  40\n",
      "2 :  UV Protection Round Sunglasses (Free Size)\n",
      "2 :  UV Protection Butterfly Sunglasses (65)\n",
      "2 :  UV Protection, Riding Glasses Wayfarer Sunglasses (56)\n",
      "2 :  UV Protection Shield Sunglasses (54)\n",
      "2 :  UV Protection Wayfarer Sunglasses (Free Size)\n",
      "2 :  UV Protection Clubmaster Sunglasses (Free Size)\n",
      "2 :  UV Protection, Gradient Rectangular Sunglasses (Free Size)\n",
      "2 :  UV Protection, Gradient Wayfarer Sunglasses (57)\n",
      "2 :  UV Protection Retro Square Sunglasses (Free Size)\n",
      "2 :  UV Protection, Mirrored Round Sunglasses (Free Size)\n",
      "2 :  UV Protection, Gradient Round Sunglasses (Free Size)\n",
      "2 :  UV Protection Aviator Sunglasses (57)\n",
      "2 :  UV Protection Wayfarer Sunglasses (56)\n",
      "2 :  Mirrored, Riding Glasses, Others Sports Sunglasses (50)\n",
      "2 :  Mirrored Wayfarer Sunglasses (55)\n",
      "2 :  UV Protection, Mirrored, Gradient Aviator, Wayfarer Sunglasses (58)\n",
      "2 :  Gradient, UV Protection Round Sunglasses (Free Size)\n",
      "2 :  Gradient, UV Protection Wayfarer Sunglasses (Free Size)\n",
      "2 :  UV Protection, Mirrored Sports Sunglasses (73)\n",
      "2 :  Polarized Wrap-around Sunglasses (66)\n",
      "2 :  UV Protection, Mirrored Wayfarer Sunglasses (53)\n",
      "2 :  UV Protection, Mirrored Retro Square Sunglasses (Free Size)\n",
      "2 :  Gradient, UV Protection Wayfarer Sunglasses (Free Size)\n",
      "2 :  Polarized, UV Protection Sports Sunglasses (70)\n",
      "2 :  Gradient, UV Protection Wayfarer Sunglasses (Free Size)\n",
      "2 :  UV Protection, Riding Glasses Aviator Sunglasses (58)\n",
      "2 :  UV Protection Sports Sunglasses (Free Size)\n",
      "2 :  UV Protection Over-sized Sunglasses (63)\n",
      "2 :  UV Protection Wayfarer Sunglasses (Free Size)\n",
      "2 :  UV Protection Aviator Sunglasses (58)\n",
      "2 :  UV Protection Aviator Sunglasses (54)\n",
      "2 :  UV Protection, Gradient Aviator Sunglasses (58)\n",
      "2 :  UV Protection, Gradient, Night Vision Retro Square Sunglasses (Free Size)\n",
      "2 :  UV Protection, Gradient, Mirrored, Riding Glasses Rectangular Sunglasses (60)\n",
      "2 :  UV Protection, Riding Glasses Wayfarer Sunglasses (53)\n",
      "2 :  UV Protection Rectangular Sunglasses (Free Size)\n",
      "2 :  UV Protection Round Sunglasses (Free Size)\n",
      "2 :  UV Protection Shield Sunglasses (Free Size)\n",
      "2 :  Polarized, UV Protection, Riding Glasses Wayfarer Sunglasses (Free Size)\n",
      "2 :  UV Protection, Gradient Cat-eye Sunglasses (60)\n"
     ]
    }
   ],
   "source": [
    "#page 2\n",
    "driver.find_element_by_xpath(\"//a[@class='_1LKTO3']\").click()\n",
    "time.sleep(15)\n",
    "pro_desc = driver.find_elements_by_xpath(\"//a[@class='IRpwTa']\")\n",
    "print(\"len: \", len(pro_desc))\n",
    "for desc in pro_desc:\n",
    "    print(counter, \": \", desc.get_attribute(\"title\"))\n",
    "list_desc.append(desc.get_attribute(\"title\"))\n",
    "counter += 1"
   ]
  },
  {
   "cell_type": "code",
   "execution_count": 20,
   "metadata": {},
   "outputs": [
    {
     "name": "stdout",
     "output_type": "stream",
     "text": [
      "len:  39\n",
      "3 :  Polarized, UV Protection Round Sunglasses (49)\n",
      "3 :  by Lenskart UV Protection Wayfarer Sunglasses (49)\n",
      "3 :  UV Protection Aviator Sunglasses (54)\n",
      "3 :  UV Protection Rectangular Sunglasses (Free Size)\n",
      "3 :  UV Protection Aviator Sunglasses (54)\n",
      "3 :  Gradient, UV Protection Wayfarer Sunglasses (Free Size)\n",
      "3 :  UV Protection Aviator Sunglasses (54)\n",
      "3 :  UV Protection, Gradient Wayfarer Sunglasses (55)\n",
      "3 :  UV Protection Aviator, Wayfarer Sunglasses (Free Size)\n",
      "3 :  UV Protection Aviator Sunglasses (58)\n",
      "3 :  UV Protection Retro Square Sunglasses (88)\n",
      "3 :  UV Protection, Riding Glasses, Others Aviator, Wayfarer Sunglasses (55)\n",
      "3 :  UV Protection Aviator Sunglasses (58)\n",
      "3 :  Mirrored Aviator Sunglasses (53)\n",
      "3 :  UV Protection Over-sized Sunglasses (60)\n",
      "3 :  UV Protection, Gradient Rectangular Sunglasses (Free Size)\n",
      "3 :  UV Protection Retro Square Sunglasses (Free Size)\n",
      "3 :  UV Protection Aviator Sunglasses (57)\n",
      "3 :  UV Protection, Gradient Butterfly, Retro Square Sunglasses (58)\n",
      "3 :  UV Protection Aviator Sunglasses (57)\n",
      "3 :  UV Protection Aviator Sunglasses (Free Size)\n",
      "3 :  UV Protection Wayfarer Sunglasses (55)\n",
      "3 :  Others Wayfarer Sunglasses (Free Size)\n",
      "3 :  UV Protection Wayfarer Sunglasses (Free Size)\n",
      "3 :  UV Protection, Mirrored Retro Square Sunglasses (53)\n",
      "3 :  Mirrored Aviator Sunglasses (55)\n",
      "3 :  Mirrored, UV Protection, Riding Glasses, Others Wrap-around, Retro Square, Over-sized Sunglasses (54)\n",
      "3 :  UV Protection Wayfarer Sunglasses (Free Size)\n",
      "3 :  UV Protection Retro Square Sunglasses (Free Size)\n",
      "3 :  UV Protection Aviator Sunglasses (Free Size)\n",
      "3 :  Others Retro Square Sunglasses (Free Size)\n",
      "3 :  Mirrored, UV Protection, Gradient Round Sunglasses (55)\n",
      "3 :  UV Protection Wayfarer Sunglasses (55)\n",
      "3 :  UV Protection Wayfarer Sunglasses (32)\n",
      "3 :  UV Protection, Polarized Wrap-around Sunglasses (52)\n",
      "3 :  UV Protection, Riding Glasses Rectangular Sunglasses (Free Size)\n",
      "3 :  UV Protection Round Sunglasses (Free Size)\n",
      "3 :  UV Protection Rectangular Sunglasses (58)\n",
      "3 :  by Lenskart UV Protection Wayfarer Sunglasses (49)\n"
     ]
    }
   ],
   "source": [
    "#page 3\n",
    "driver.find_element_by_xpath(\"//a[@class='_1LKTO3']\").click()\n",
    "time.sleep(15)\n",
    "pro_desc = driver.find_elements_by_xpath(\"//a[@class='IRpwTa']\")\n",
    "print(\"len: \", len(pro_desc))\n",
    "for desc in pro_desc:\n",
    "    if counter == 101:\n",
    "        break\n",
    "    else:\n",
    "        print(counter, \": \", desc.get_attribute(\"title\"))\n",
    "list_desc.append(desc.get_attribute(\"title\"))\n",
    "counter += 1"
   ]
  },
  {
   "cell_type": "code",
   "execution_count": 21,
   "metadata": {},
   "outputs": [
    {
     "name": "stdout",
     "output_type": "stream",
     "text": [
      "len:  39\n",
      "1 :  ₹664\n",
      "1 :  ₹890\n",
      "1 :  ₹237\n",
      "1 :  ₹541\n",
      "1 :  ₹237\n",
      "1 :  ₹509\n",
      "1 :  ₹237\n",
      "1 :  ₹664\n",
      "1 :  ₹217\n",
      "1 :  ₹213\n",
      "1 :  ₹331\n",
      "1 :  ₹479\n",
      "1 :  ₹212\n",
      "1 :  ₹1,046\n",
      "1 :  ₹249\n",
      "1 :  ₹664\n",
      "1 :  ₹404\n",
      "1 :  ₹399\n",
      "1 :  ₹156\n",
      "1 :  ₹485\n",
      "1 :  ₹284\n",
      "1 :  ₹331\n",
      "1 :  ₹251\n",
      "1 :  ₹750\n",
      "1 :  ₹716\n",
      "1 :  ₹379\n",
      "1 :  ₹319\n",
      "1 :  ₹314\n",
      "1 :  ₹246\n",
      "1 :  ₹499\n",
      "1 :  ₹659\n",
      "1 :  ₹539\n",
      "1 :  ₹210\n",
      "1 :  ₹265\n",
      "1 :  ₹237\n",
      "1 :  ₹854\n",
      "1 :  ₹426\n",
      "1 :  ₹209\n",
      "1 :  ₹399\n",
      "1 :  ₹890\n"
     ]
    }
   ],
   "source": [
    "## PRICE\n",
    "\n",
    "counter = 1\n",
    "driver.get(\"https://www.flipkart.com/search?q=sunglasses&otracker=search&otracker1=search&marketplace=FLIPKART&as-show=off&as=off&page=1\")\n",
    "price = driver.find_elements_by_xpath(\"//div[@class='_30jeq3']\")\n",
    "print(\"len: \", len(pro_desc))\n",
    "for p in price:\n",
    "    print(counter, \": \", p.text)\n",
    "list_price.append(p.text)\n",
    "counter += 1"
   ]
  },
  {
   "cell_type": "code",
   "execution_count": 22,
   "metadata": {},
   "outputs": [
    {
     "name": "stdout",
     "output_type": "stream",
     "text": [
      "len:  39\n",
      "2 :  ₹189\n",
      "2 :  ₹323\n",
      "2 :  ₹210\n",
      "2 :  ₹309\n",
      "2 :  ₹162\n",
      "2 :  ₹319\n",
      "2 :  ₹474\n",
      "2 :  ₹309\n",
      "2 :  ₹399\n",
      "2 :  ₹219\n",
      "2 :  ₹426\n",
      "2 :  ₹312\n",
      "2 :  ₹719\n",
      "2 :  ₹252\n",
      "2 :  ₹219\n",
      "2 :  ₹664\n",
      "2 :  ₹449\n",
      "2 :  ₹624\n",
      "2 :  ₹311\n",
      "2 :  ₹237\n",
      "2 :  ₹199\n",
      "2 :  ₹399\n",
      "2 :  ₹618\n",
      "2 :  ₹1,299\n",
      "2 :  ₹589\n",
      "2 :  ₹206\n",
      "2 :  ₹319\n",
      "2 :  ₹863\n",
      "2 :  ₹632\n",
      "2 :  ₹204\n",
      "2 :  ₹237\n",
      "2 :  ₹592\n",
      "2 :  ₹296\n",
      "2 :  ₹299\n",
      "2 :  ₹263\n",
      "2 :  ₹425\n",
      "2 :  ₹219\n",
      "2 :  ₹742\n",
      "2 :  ₹224\n",
      "2 :  ₹200\n"
     ]
    }
   ],
   "source": [
    " #page 2\n",
    "driver.find_element_by_xpath(\"//a[@class='_1LKTO3']\").click()\n",
    "time.sleep(15)\n",
    "price = driver.find_elements_by_xpath(\"//div[@class='_30jeq3']\")\n",
    "print(\"len: \", len(pro_desc))\n",
    "for p in price:\n",
    "    print(counter, \": \", p.text)\n",
    "list_price.append(p.text)\n",
    "counter += 1"
   ]
  },
  {
   "cell_type": "code",
   "execution_count": 23,
   "metadata": {},
   "outputs": [
    {
     "name": "stdout",
     "output_type": "stream",
     "text": [
      "len:  40\n",
      "3 :  ₹664\n",
      "3 :  ₹890\n",
      "3 :  ₹237\n",
      "3 :  ₹541\n",
      "3 :  ₹237\n",
      "3 :  ₹509\n",
      "3 :  ₹237\n",
      "3 :  ₹664\n",
      "3 :  ₹217\n",
      "3 :  ₹213\n",
      "3 :  ₹331\n",
      "3 :  ₹479\n",
      "3 :  ₹212\n",
      "3 :  ₹1,046\n",
      "3 :  ₹249\n",
      "3 :  ₹664\n",
      "3 :  ₹404\n",
      "3 :  ₹399\n",
      "3 :  ₹156\n",
      "3 :  ₹485\n",
      "3 :  ₹284\n",
      "3 :  ₹331\n",
      "3 :  ₹251\n",
      "3 :  ₹750\n",
      "3 :  ₹716\n",
      "3 :  ₹379\n",
      "3 :  ₹319\n",
      "3 :  ₹314\n",
      "3 :  ₹246\n",
      "3 :  ₹499\n",
      "3 :  ₹659\n",
      "3 :  ₹539\n",
      "3 :  ₹210\n",
      "3 :  ₹265\n",
      "3 :  ₹237\n",
      "3 :  ₹854\n",
      "3 :  ₹426\n",
      "3 :  ₹209\n",
      "3 :  ₹399\n",
      "3 :  ₹499\n"
     ]
    }
   ],
   "source": [
    "#page 3\n",
    "driver.find_element_by_xpath(\"//a[@class='_1LKTO3']\").click()\n",
    "time.sleep(15)\n",
    "price = driver.find_elements_by_xpath(\"//div[@class='_30jeq3']\")\n",
    "print(\"len: \", len(price))\n",
    "for p in price:\n",
    "    if counter == 101:\n",
    "        break\n",
    "    else:\n",
    "        print(counter, \": \", p.text)\n",
    "list_price.append(p.text)\n",
    "counter += 1"
   ]
  },
  {
   "cell_type": "code",
   "execution_count": 24,
   "metadata": {},
   "outputs": [
    {
     "name": "stdout",
     "output_type": "stream",
     "text": [
      "len:  40\n",
      "1 :  66% off\n",
      "1 :  55% off\n",
      "1 :  85% off\n",
      "1 :  32% off\n",
      "1 :  85% off\n",
      "1 :  36% off\n",
      "1 :  85% off\n",
      "1 :  66% off\n",
      "1 :  78% off\n",
      "1 :  82% off\n",
      "1 :  87% off\n",
      "1 :  76% off\n",
      "1 :  69% off\n",
      "1 :  19% off\n",
      "1 :  75% off\n",
      "1 :  66% off\n",
      "1 :  79% off\n",
      "1 :  80% off\n",
      "1 :  79% off\n",
      "1 :  68% off\n",
      "1 :  85% off\n",
      "1 :  79% off\n",
      "1 :  79% off\n",
      "1 :  24% off\n",
      "1 :  20% off\n",
      "1 :  81% off\n",
      "1 :  78% off\n",
      "1 :  84% off\n",
      "1 :  83% off\n",
      "1 :  77% off\n",
      "1 :  26% off\n",
      "1 :  28% off\n",
      "1 :  85% off\n",
      "1 :  79% off\n",
      "1 :  85% off\n",
      "1 :  57% off\n",
      "1 :  80% off\n",
      "1 :  79% off\n",
      "1 :  73% off\n",
      "1 :  55% off\n"
     ]
    }
   ],
   "source": [
    "## DISCOUNT\n",
    "\n",
    "counter = 1\n",
    "driver.get(\"https://www.flipkart.com/search?q=sunglasses&otracker=search&otracker1=search&marketplace=FLIPKART&as-show=off&as=off&page=1\")\n",
    "discount = driver.find_elements_by_xpath(\"//div[@class='_3Ay6Sb']/span\")\n",
    "print(\"len: \", len(discount))\n",
    "for dis in discount:\n",
    "    print(counter, \": \", dis.text)\n",
    "list_discount.append(dis.text)\n",
    "counter += 1"
   ]
  },
  {
   "cell_type": "code",
   "execution_count": 25,
   "metadata": {},
   "outputs": [
    {
     "name": "stdout",
     "output_type": "stream",
     "text": [
      "len:  39\n",
      "2 :  81% off\n",
      "2 :  87% off\n",
      "2 :  78% off\n",
      "2 :  72% off\n",
      "2 :  67% off\n",
      "2 :  84% off\n",
      "2 :  78% off\n",
      "2 :  72% off\n",
      "2 :  81% off\n",
      "2 :  86% off\n",
      "2 :  78% off\n",
      "2 :  66% off\n",
      "2 :  20% off\n",
      "2 :  83% off\n",
      "2 :  78% off\n",
      "2 :  69% off\n",
      "2 :  77% off\n",
      "2 :  21% off\n",
      "2 :  75% off\n",
      "2 :  78% off\n",
      "2 :  80% off\n",
      "2 :  80% off\n",
      "2 :  22% off\n",
      "2 :  74% off\n",
      "2 :  26% off\n",
      "2 :  80% off\n",
      "2 :  83% off\n",
      "2 :  83% off\n",
      "2 :  29% off\n",
      "2 :  74% off\n",
      "2 :  85% off\n",
      "2 :  65% off\n",
      "2 :  85% off\n",
      "2 :  76% off\n",
      "2 :  86% off\n",
      "2 :  68% off\n",
      "2 :  72% off\n",
      "2 :  17% off\n",
      "2 :  62% off\n",
      "2 :  55% off\n"
     ]
    }
   ],
   "source": [
    " #page 2\n",
    "driver.find_element_by_xpath(\"//a[@class='_1LKTO3']\").click()\n",
    "time.sleep(15)\n",
    "discount = driver.find_elements_by_xpath(\"//div[@class='_3Ay6Sb']/span\")\n",
    "print(\"len: \", len(pro_desc))\n",
    "for dis in discount:\n",
    "    print(counter, \": \", dis.text)\n",
    "list_discount.append(dis.text)\n",
    "counter += 1"
   ]
  },
  {
   "cell_type": "code",
   "execution_count": 26,
   "metadata": {},
   "outputs": [
    {
     "name": "stdout",
     "output_type": "stream",
     "text": [
      "len:  39\n",
      "3 :  85% off\n",
      "3 :  32% off\n",
      "3 :  85% off\n",
      "3 :  36% off\n",
      "3 :  85% off\n",
      "3 :  78% off\n",
      "3 :  82% off\n",
      "3 :  87% off\n",
      "3 :  69% off\n",
      "3 :  19% off\n",
      "3 :  75% off\n",
      "3 :  79% off\n",
      "3 :  80% off\n",
      "3 :  79% off\n",
      "3 :  85% off\n",
      "3 :  79% off\n",
      "3 :  79% off\n",
      "3 :  20% off\n",
      "3 :  81% off\n",
      "3 :  78% off\n",
      "3 :  83% off\n",
      "3 :  77% off\n",
      "3 :  26% off\n",
      "3 :  85% off\n",
      "3 :  79% off\n",
      "3 :  85% off\n",
      "3 :  80% off\n",
      "3 :  79% off\n",
      "3 :  73% off\n",
      "3 :  81% off\n",
      "3 :  87% off\n",
      "3 :  78% off\n",
      "3 :  67% off\n",
      "3 :  84% off\n",
      "3 :  78% off\n",
      "3 :  81% off\n",
      "3 :  86% off\n",
      "3 :  78% off\n",
      "3 :  20% off\n",
      "3 :  83% off\n"
     ]
    }
   ],
   "source": [
    "#page 3\n",
    "driver.find_element_by_xpath(\"//a[@class='_1LKTO3']\").click()\n",
    "time.sleep(15)\n",
    "discount = driver.find_elements_by_xpath(\"//div[@class='_3Ay6Sb']/span\")\n",
    "print(\"len: \", len(pro_desc))\n",
    "for dis in discount:\n",
    "    if counter == 101:\n",
    "        break\n",
    "    else:\n",
    "        print(counter, \": \", dis.text)\n",
    "list_discount.append(dis.text)\n",
    "counter += 1"
   ]
  },
  {
   "cell_type": "markdown",
   "metadata": {},
   "source": [
    "# 8th question"
   ]
  },
  {
   "cell_type": "markdown",
   "metadata": {},
   "source": [
    "Q8: Scrape data for first 100 sneakers you find when you visit flipkart.com and\n",
    "search for “sneakers” in the search field."
   ]
  },
  {
   "cell_type": "code",
   "execution_count": 84,
   "metadata": {},
   "outputs": [],
   "source": [
    "driver=webdriver.Chrome(\"chromedriver.exe\")"
   ]
  },
  {
   "cell_type": "code",
   "execution_count": 85,
   "metadata": {},
   "outputs": [],
   "source": [
    "url = 'https://www.flipkart.com/'\n",
    "driver.get(url)"
   ]
  },
  {
   "cell_type": "code",
   "execution_count": 106,
   "metadata": {},
   "outputs": [],
   "source": [
    "driver.get(\"https://www.flipkart.com\")\n",
    "\n",
    "query = driver.find_element_by_xpath(\"//input[@class='_3704LK']\")\n",
    "query.send_keys(\"sneakers\")\n",
    "driver.find_element_by_xpath(\"//button[@class='L0Z3Pu']\").click()"
   ]
  },
  {
   "cell_type": "code",
   "execution_count": 107,
   "metadata": {},
   "outputs": [
    {
     "data": {
      "text/plain": [
       "<selenium.webdriver.remote.webelement.WebElement (session=\"c6c4fcf8be1f0d9f98ff2a693bcfdfbe\", element=\"d874231d-adf6-4b81-ad1e-cd626f7576fe\")>"
      ]
     },
     "execution_count": 107,
     "metadata": {},
     "output_type": "execute_result"
    }
   ],
   "source": [
    "query.send_keys(\"sneakers\")\n",
    "driver.find_element_by_xpath(\"//div[@class='_1cmsER']\")"
   ]
  },
  {
   "cell_type": "code",
   "execution_count": 108,
   "metadata": {},
   "outputs": [
    {
     "name": "stdout",
     "output_type": "stream",
     "text": [
      "40\n"
     ]
    }
   ],
   "source": [
    "time.sleep(20)\n",
    "\n",
    "# brand, product desc, price, discount\n",
    "brand = driver.find_elements_by_xpath(\"//div[@class='_2WkVRV']\")\n",
    "print(len(brand))\n",
    "pro_desc = driver.find_elements_by_xpath(\"//a[@class='IRpwTa _2-ICcC']\")\n",
    "price = driver.find_elements_by_xpath(\"//div[@class='_30jeq3']\")\n",
    "discount = driver.find_elements_by_xpath(\"//div[@class='_3Ay6Sb']/span\")"
   ]
  },
  {
   "cell_type": "code",
   "execution_count": 109,
   "metadata": {},
   "outputs": [
    {
     "name": "stdout",
     "output_type": "stream",
     "text": [
      "1 :  Numenzo\n",
      "2 :  PUMA\n",
      "3 :  PEHANOSA\n",
      "4 :  India hub\n",
      "5 :  ORICUM\n",
      "6 :  Robbie jones\n",
      "7 :  Shoes Bank\n",
      "8 :  Echor\n",
      "9 :  CALCADOS\n",
      "10 :  3SIX5\n",
      "11 :  bluemaker\n",
      "12 :  Echor\n",
      "13 :  TR\n",
      "14 :  VIPSJAZZY\n",
      "15 :  Alfiya\n",
      "16 :  WELDONE\n",
      "17 :  Stefano Rads\n",
      "18 :  HOTSTYLE\n",
      "19 :  Chevit\n",
      "20 :  PUMA\n",
      "21 :  Kraasa\n",
      "22 :  Numenzo\n",
      "23 :  HOTSTYLE\n",
      "24 :  Next INN\n",
      "25 :  World Wear Footwear\n",
      "26 :  SCATCHITE\n",
      "27 :  Birde\n",
      "28 :  RED TAPE\n",
      "29 :  Aura\n",
      "30 :  ESSENCE\n",
      "31 :  Absolute comfort\n",
      "32 :  BRUTON\n",
      "33 :  Chevit\n",
      "34 :  restinfoot\n",
      "35 :  D-SNEAKERZ\n",
      "36 :  RED TAPE\n",
      "37 :  Zsyto\n",
      "38 :  Chevit\n",
      "39 :  Nilatin\n",
      "40 :  RED TAPE\n"
     ]
    }
   ],
   "source": [
    "list_brand = []\n",
    "list_desc = []\n",
    "list_price = []\n",
    "list_discount = []\n",
    "\n",
    "# PAGE 1\n",
    "counter = 1\n",
    "for brand in brand:\n",
    "    print(counter,\": \", brand.text)\n",
    "    list_brand.append(brand.text)\n",
    "    counter += 1"
   ]
  },
  {
   "cell_type": "code",
   "execution_count": 111,
   "metadata": {},
   "outputs": [
    {
     "name": "stdout",
     "output_type": "stream",
     "text": [
      "41 :  KULP\n",
      "42 :  Arohi\n",
      "43 :  Robbie jones\n",
      "44 :  India hub\n",
      "45 :  Robbie jones\n",
      "46 :  Birde\n",
      "47 :  India hub\n",
      "48 :  Echor\n",
      "49 :  Chevit\n",
      "50 :  SWIGGY\n",
      "51 :  Zorth\n",
      "52 :  ELISEO\n",
      "53 :  LEATHERKRAFT\n",
      "54 :  ASTEROID\n",
      "55 :  Robbie jones\n",
      "56 :  bluemaker\n",
      "57 :  kardam&sons\n",
      "58 :  bluemaker\n",
      "59 :  HOC\n",
      "60 :  ADIDAS\n",
      "61 :  warships\n",
      "62 :  World Wear Footwear\n",
      "63 :  ORICUM\n",
      "64 :  Echor\n",
      "65 :  Axter\n",
      "66 :  HOTSTYLE\n",
      "67 :  SPARX\n",
      "68 :  believe\n",
      "69 :  bluemaker\n",
      "70 :  Chevit\n",
      "71 :  Ktiz\n",
      "72 :  PUMA\n",
      "73 :  Robbie jones\n",
      "74 :  ESSENCE\n",
      "75 :  Numenzo\n",
      "76 :  Bond Street By Red Tape\n",
      "77 :  D-SNEAKERZ\n",
      "78 :  World Wear Footwear\n",
      "79 :  BLACK BOTTOM\n",
      "80 :  ELISEO\n"
     ]
    }
   ],
   "source": [
    " # PAGE 2: click the next button\n",
    "driver.find_element_by_xpath(\"//a[@class='_1LKTO3']\").click()\n",
    "time.sleep(15)\n",
    "brand = driver.find_elements_by_xpath(\"//div[@class='_2WkVRV']\")\n",
    "for b in brand:\n",
    "    if counter == 101:\n",
    "        break\n",
    "    else:\n",
    "        print(counter, \": \", b.text)\n",
    "        list_brand.append(b.text)\n",
    "        counter += 1"
   ]
  },
  {
   "cell_type": "code",
   "execution_count": 112,
   "metadata": {},
   "outputs": [
    {
     "name": "stdout",
     "output_type": "stream",
     "text": [
      "81 :  Numenzo\n",
      "82 :  PUMA\n",
      "83 :  PEHANOSA\n",
      "84 :  India hub\n",
      "85 :  ORICUM\n",
      "86 :  Robbie jones\n",
      "87 :  Shoes Bank\n",
      "88 :  Echor\n",
      "89 :  CALCADOS\n",
      "90 :  3SIX5\n",
      "91 :  bluemaker\n",
      "92 :  Echor\n",
      "93 :  TR\n",
      "94 :  VIPSJAZZY\n",
      "95 :  Alfiya\n",
      "96 :  PUMA\n",
      "97 :  Stefano Rads\n",
      "98 :  HOTSTYLE\n",
      "99 :  Chevit\n",
      "100 :  Next INN\n"
     ]
    }
   ],
   "source": [
    "# PAGE 3: click the next button\n",
    "driver.find_element_by_xpath(\"//a[@class='_1LKTO3']\").click()\n",
    "time.sleep(15)\n",
    "brand = driver.find_elements_by_xpath(\"//div[@class='_2WkVRV']\")\n",
    "for b in brand:\n",
    "    if counter == 101:\n",
    "        break\n",
    "    else:\n",
    "        print(counter, \": \", b.text)\n",
    "        list_brand.append(b.text)\n",
    "        counter += 1"
   ]
  },
  {
   "cell_type": "code",
   "execution_count": 113,
   "metadata": {},
   "outputs": [
    {
     "name": "stdout",
     "output_type": "stream",
     "text": [
      "len:  31\n",
      "1 :  Sneakers For Men\n",
      "2 :  Sneakers For Men\n",
      "3 :  Combo pack of 2 casual sneaker shoes for men Sneakers For Men\n",
      "4 :  Sneakers For Men\n",
      "5 :  White Sneaker For Men's/Boy's Sneakers For Men\n",
      "6 :  shoes for boys Sneakers For Men\n",
      "7 :  ORIFWSH(OR)-1077 Sneakers For Men\n",
      "8 :  casual for men (blue 06) Sneakers For Men\n",
      "9 :  Raptor Sneakers For Men\n",
      "10 :  Sneakers For Men\n",
      "11 :  Shoes in Black Color Party wear/Outdoor/Casual Shoes For Men (Black) Sneakers For Men\n",
      "12 :  MAPM Future Kart Cat Sneakers For Men\n",
      "13 :  Sneakers Sneakers For Men\n",
      "14 :  Perfect & Affordable Combo Pack of 02 Pairs Sneakers Outdoor Loafer Sports for Running Rock Climbing Gym Shoes Sneakers For Men\n",
      "15 :  Icon IDP Sneakers For Men\n",
      "16 :  Series 7 Sneakers For Men\n",
      "17 :  Sneakers For Men\n",
      "18 :  Sneakers Sneakers For Men\n",
      "19 :  Perfect & Affordable Combo Pack of 02 Pairs Sneakers Outdoor Loafer Sports for Running Rock Climbing Gym Shoes Sneakers For Men\n",
      "20 :  Combo Pack of 4 Latest Collection Stylish Casual Loafer Sneakers Shoes Sneakers For Men\n",
      "21 :  Sneakers Sneakers For Men\n",
      "22 :  Combo Pack of 4 Casual Shoes Sneakers For Men\n",
      "23 :  Combo Pack of 2 Casual Shoes Sneakers For Men\n",
      "24 :  Sneakers For Men\n",
      "25 :  Classic Sneakers For Men\n",
      "26 :  Men's Combo Pack of 02 Shoes for Men Casual Sneakers Outdoor Shoes for Men Sports Shoe for Running Gym Cycling & Trekking Sneakers For Men Sneakers For Men\n",
      "27 :  Casual shoes,Sneakers for men's,shoes for men's Sneakers For Men\n",
      "28 :  Casual , Partywear Sneakers Shoes For Men's And Boys White Color Sneakers For Men\n",
      "29 :  Sneakers For Men\n",
      "30 :  Super & Trendy Men's Pack of 02 Pair Shoes for Boys Casual Sneakers Outdoor Shoes for Boys Latest & Stylish Sports Shoe for Running Gym Cycling & Trekking Sneakers For Boys Sneakers For Men\n",
      "31 :  Future Rider Twofold SD Sneakers For Men\n"
     ]
    }
   ],
   "source": [
    "## DESCRIPTION\n",
    "\n",
    "counter = 1\n",
    "driver.get(\"https://www.flipkart.com/search?q=sneakers&otracker=search&otracker1=search&marketplace=FLIPKART&as-show=off&as=off&page=1\")\n",
    "pro_desc = driver.find_elements_by_xpath(\"//a[@class='IRpwTa']\")\n",
    "print(\"len: \", len(pro_desc))\n",
    "for desc in pro_desc:\n",
    "    print(counter, \": \", desc.get_attribute(\"title\"))\n",
    "    list_desc.append(desc.get_attribute(\"title\"))\n",
    "    counter += 1"
   ]
  },
  {
   "cell_type": "code",
   "execution_count": 114,
   "metadata": {},
   "outputs": [
    {
     "name": "stdout",
     "output_type": "stream",
     "text": [
      "len:  33\n",
      "1 :  Sneakers For Men\n",
      "2 :  MAPM Future Kart Cat Sneakers For Men\n",
      "3 :  Sneakers For Men\n",
      "4 :  Combo pack of 2 casual sneaker shoes for men Sneakers For Men\n",
      "5 :  Sneakers For Men\n",
      "6 :  White Sneaker For Men's/Boy's Sneakers For Men\n",
      "7 :  shoes for boys Sneakers For Men\n",
      "8 :  ORIFWSH(OR)-1077 Sneakers For Men\n",
      "9 :  casual for men (blue 06) Sneakers For Men\n",
      "10 :  Raptor Sneakers For Men\n",
      "11 :  Sneakers For Men\n",
      "12 :  Shoes in Black Color Party wear/Outdoor/Casual Shoes For Men (Black) Sneakers For Men\n",
      "13 :  Fashion Outdoor Canvas Casual Light Weight Partywear Sneakers Shoes For Men's And Boys Sneakers Casuals For Men  Sneakers For Men\n",
      "14 :  Sneakers Sneakers For Men\n",
      "15 :  Perfect & Affordable Combo Pack of 02 Pairs Sneakers Outdoor Loafer Sports for Running Rock Climbing Gym Shoes Sneakers For Men\n",
      "16 :  Advantage Base Sneakers For Men\n",
      "17 :  Series 7 Sneakers For Men\n",
      "18 :  Sneakers For Men\n",
      "19 :  Sneakers Sneakers For Men\n",
      "20 :  Perfect & Affordable Combo Pack of 02 Pairs Sneakers Outdoor Loafer Sports for Running Rock Climbing Gym Shoes Sneakers For Men\n",
      "21 :  Combo Pack of 4 Latest Collection Stylish Casual Loafer Sneakers Shoes Sneakers For Men\n",
      "22 :  Sneakers Sneakers For Men\n",
      "23 :  Combo Pack of 4 Casual Shoes Sneakers For Men\n",
      "24 :  Classic Sneakers For Men\n",
      "25 :  Combo Pack of 2 Casual Shoes Sneakers For Men\n",
      "26 :  Sneakers For Men\n",
      "27 :  Icon IDP Sneakers For Men\n",
      "28 :  Men's Combo Pack of 02 Shoes for Men Casual Sneakers Outdoor Shoes for Men Sports Shoe for Running Gym Cycling & Trekking Sneakers For Men Sneakers For Men\n",
      "29 :  Casual shoes,Sneakers for men's,shoes for men's Sneakers For Men\n",
      "30 :  Casual , Partywear Sneakers Shoes For Men's And Boys White Color Sneakers For Men\n",
      "31 :  Sneakers For Men\n",
      "32 :  Super & Trendy Men's Pack of 02 Pair Shoes for Boys Casual Sneakers Outdoor Shoes for Boys Latest & Stylish Sports Shoe for Running Gym Cycling & Trekking Sneakers For Boys Sneakers For Men\n",
      "33 :  Flex Sneakers For Men\n"
     ]
    }
   ],
   "source": [
    "## DESCRIPTION\n",
    "\n",
    "counter = 1\n",
    "driver.get(\"https://www.flipkart.com/search?q=sneakers&otracker=search&otracker1=search&marketplace=FLIPKART&as-show=off&as=off&page=1\")\n",
    "pro_desc = driver.find_elements_by_xpath(\"//a[@class='IRpwTa']\")\n",
    "print(\"len: \", len(pro_desc))\n",
    "for desc in pro_desc:\n",
    "    print(counter, \": \", desc.get_attribute(\"title\"))\n",
    "    list_desc.append(desc.get_attribute(\"title\"))\n",
    "    counter += 1"
   ]
  },
  {
   "cell_type": "code",
   "execution_count": 115,
   "metadata": {},
   "outputs": [
    {
     "name": "stdout",
     "output_type": "stream",
     "text": [
      "len:  33\n",
      "34 :  Casual Sneakers White Shoes For Men Sneakers For Men\n",
      "35 :  Latest Stylish Casual Sneakers For Men\n",
      "36 :  Sneakers For Men\n",
      "37 :  Men's Stylish Casual Shoes Sneakers For Men\n",
      "38 :  Sneakers For Men\n",
      "39 :  Super 445 Fashion Sneakers For Men\n",
      "40 :  Casual Loafers, Sneakers Shoes for Men Pack of 5 Combo(O)-1667-349-466-1224-1258 Sneakers For Men\n",
      "41 :  casual for men (blue 09) Sneakers For Men\n",
      "42 :  Sneakers For Men\n",
      "43 :  Skate Board White Shoes Men Running Flat PU Sneakers Male White Board Shoes Sports Outdoor Shoes Sneakers For Men Sneakers For Men\n",
      "44 :  Casual Sneakers Black Shoes For Men Sneakers For Men\n",
      "45 :  Vibe Sneakers For Men\n",
      "46 :  casual for men (black 08) Sneakers For Men\n",
      "47 :  Casual Sneakers Shoes For Men Sneakers For Men\n",
      "48 :  Future Rider Twofold SD Sneakers For Men\n",
      "49 :  Latest Collection-1227 Stylish Casual Sports Sneakers For Men\n",
      "50 :  Combo pack of 2 Casuals Shoes For Men (1563-1564) Sneakers For Men\n",
      "51 :  Men Casual Sneakers For Men\n",
      "52 :  Combo Pack of 2 Latest Collection Stylish Casual Loafer Sneakers Shoes For Men Sneakers For Men\n",
      "53 :  SM-322 Sneakers For Men\n",
      "54 :  Sneakers for men(black_8) Sneakers For Men\n",
      "55 :  casual for men (beige 06) Sneakers For Men\n",
      "56 :  Speed Set of 5 Pairs Sneakers Outdoors Casuals for Men Sneakers For Men\n",
      "57 :  Sneakers For Men\n",
      "58 :  Sneakers For Men\n",
      "59 :  Casual Sneakers Shoes For Men And Boys Sneakers For Men\n",
      "60 :  Sneakers For Men\n",
      "61 :  Casual Sneaker Sneakers For Men\n",
      "62 :  Bari Z Sneakers For Men\n",
      "63 :  Casual , Partywear Sneakers Shoes For Men's And Boys Red Color Sneakers For Men\n",
      "64 :  Men 5014 Latest Collection Stylish Casual Sports Loafers Shoes Sneakers Shoes Sneakers For Men\n",
      "65 :  Fashion Outdoor Canvas Casual Light Weight Partywear Sneakers Shoes For Men's And Boys Sneakers Casuals For Men  Sneakers For Men\n",
      "66 :  Combo pack of 2 Casuals Shoes For Men (1563-1564) Sneakers For Men\n"
     ]
    }
   ],
   "source": [
    "#page 3\n",
    "driver.find_element_by_xpath(\"//a[@class='_1LKTO3']\").click()\n",
    "time.sleep(15)\n",
    "pro_desc = driver.find_elements_by_xpath(\"//a[@class='IRpwTa']\")\n",
    "print(\"len: \", len(pro_desc))\n",
    "for desc in pro_desc:\n",
    "    if counter == 101:\n",
    "        break\n",
    "    else:\n",
    "        print(counter, \": \", desc.get_attribute(\"title\"))\n",
    "        list_desc.append(desc.get_attribute(\"title\"))\n",
    "        counter += 1"
   ]
  },
  {
   "cell_type": "code",
   "execution_count": 116,
   "metadata": {},
   "outputs": [
    {
     "name": "stdout",
     "output_type": "stream",
     "text": [
      "len:  33\n",
      "1 :  ₹449\n",
      "2 :  ₹3,500\n",
      "3 :  ₹499\n",
      "4 :  ₹389\n",
      "5 :  ₹377\n",
      "6 :  ₹449\n",
      "7 :  ₹349\n",
      "8 :  ₹599\n",
      "9 :  ₹748\n",
      "10 :  ₹214\n",
      "11 :  ₹449\n",
      "12 :  ₹599\n",
      "13 :  ₹312\n",
      "14 :  ₹429\n",
      "15 :  ₹377\n",
      "16 :  ₹1,900\n",
      "17 :  ₹242\n",
      "18 :  ₹283\n",
      "19 :  ₹473\n",
      "20 :  ₹381\n",
      "21 :  ₹416\n",
      "22 :  ₹398\n",
      "23 :  ₹283\n",
      "24 :  ₹1,678\n",
      "25 :  ₹499\n",
      "26 :  ₹398\n",
      "27 :  ₹698\n",
      "28 :  ₹1,047\n",
      "29 :  ₹498\n",
      "30 :  ₹416\n",
      "31 :  ₹199\n",
      "32 :  ₹1,258\n",
      "33 :  ₹448\n",
      "34 :  ₹321\n",
      "35 :  ₹365\n",
      "36 :  ₹599\n",
      "37 :  ₹378\n",
      "38 :  ₹446\n",
      "39 :  ₹407\n",
      "40 :  ₹3,500\n"
     ]
    }
   ],
   "source": [
    " ## PRICE\n",
    "\n",
    "counter = 1\n",
    "driver.get(\"https://www.flipkart.com/search?q=sneakers&otracker=search&otracker1=search&marketplace=FLIPKART&as-show=off&as=off&page=1\")\n",
    "price = driver.find_elements_by_xpath(\"//div[@class='_30jeq3']\")\n",
    "print(\"len: \", len(pro_desc))\n",
    "for p in price:\n",
    "    print(counter, \": \", p.text)\n",
    "    list_price.append(p.text)\n",
    "    counter += 1"
   ]
  },
  {
   "cell_type": "code",
   "execution_count": 117,
   "metadata": {},
   "outputs": [
    {
     "name": "stdout",
     "output_type": "stream",
     "text": [
      "len:  33\n",
      "41 :  ₹499\n",
      "42 :  ₹439\n",
      "43 :  ₹499\n",
      "44 :  ₹599\n",
      "45 :  ₹405\n",
      "46 :  ₹293\n",
      "47 :  ₹449\n",
      "48 :  ₹449\n",
      "49 :  ₹348\n",
      "50 :  ₹719\n",
      "51 :  ₹499\n",
      "52 :  ₹449\n",
      "53 :  ₹349\n",
      "54 :  ₹451\n",
      "55 :  ₹405\n",
      "56 :  ₹449\n",
      "57 :  ₹379\n",
      "58 :  ₹449\n",
      "59 :  ₹379\n",
      "60 :  ₹1,708\n",
      "61 :  ₹398\n",
      "62 :  ₹240\n",
      "63 :  ₹472\n",
      "64 :  ₹512\n",
      "65 :  ₹399\n",
      "66 :  ₹199\n",
      "67 :  ₹769\n",
      "68 :  ₹424\n",
      "69 :  ₹449\n",
      "70 :  ₹679\n",
      "71 :  ₹399\n",
      "72 :  ₹873\n",
      "73 :  ₹449\n",
      "74 :  ₹416\n",
      "75 :  ₹512\n",
      "76 :  ₹599\n",
      "77 :  ₹346\n",
      "78 :  ₹240\n",
      "79 :  ₹449\n",
      "80 :  ₹1,676\n"
     ]
    }
   ],
   "source": [
    "#page 2\n",
    "driver.find_element_by_xpath(\"//a[@class='_1LKTO3']\").click()\n",
    "time.sleep(15)\n",
    "price = driver.find_elements_by_xpath(\"//div[@class='_30jeq3']\")\n",
    "print(\"len: \", len(pro_desc))\n",
    "for p in price:\n",
    "    print(counter, \": \", p.text)\n",
    "    list_price.append(p.text)\n",
    "    counter += 1"
   ]
  },
  {
   "cell_type": "code",
   "execution_count": 118,
   "metadata": {},
   "outputs": [
    {
     "name": "stdout",
     "output_type": "stream",
     "text": [
      "len:  40\n",
      "81 :  ₹377\n",
      "82 :  ₹599\n",
      "83 :  ₹499\n",
      "84 :  ₹389\n",
      "85 :  ₹377\n",
      "86 :  ₹449\n",
      "87 :  ₹349\n",
      "88 :  ₹599\n",
      "89 :  ₹748\n",
      "90 :  ₹214\n",
      "91 :  ₹449\n",
      "92 :  ₹2,117\n",
      "93 :  ₹312\n",
      "94 :  ₹429\n",
      "95 :  ₹377\n",
      "96 :  ₹1,900\n",
      "97 :  ₹242\n",
      "98 :  ₹283\n",
      "99 :  ₹473\n",
      "100 :  ₹1,678\n"
     ]
    }
   ],
   "source": [
    "#page 3\n",
    "driver.find_element_by_xpath(\"//a[@class='_1LKTO3']\").click()\n",
    "time.sleep(15)\n",
    "price = driver.find_elements_by_xpath(\"//div[@class='_30jeq3']\")\n",
    "print(\"len: \", len(price))\n",
    "for p in price:\n",
    "    if counter == 101:\n",
    "        break\n",
    "    else:\n",
    "        print(counter, \": \", p.text)\n",
    "        list_price.append(p.text)\n",
    "        counter += 1"
   ]
  },
  {
   "cell_type": "code",
   "execution_count": 119,
   "metadata": {},
   "outputs": [
    {
     "name": "stdout",
     "output_type": "stream",
     "text": [
      "len:  40\n",
      "1 :  62% off\n",
      "2 :  40% off\n",
      "3 :  50% off\n",
      "4 :  87% off\n",
      "5 :  62% off\n",
      "6 :  55% off\n",
      "7 :  65% off\n",
      "8 :  40% off\n",
      "9 :  62% off\n",
      "10 :  57% off\n",
      "11 :  55% off\n",
      "12 :  53% off\n",
      "13 :  84% off\n",
      "14 :  57% off\n",
      "15 :  62% off\n",
      "16 :  61% off\n",
      "17 :  65% off\n",
      "18 :  43% off\n",
      "19 :  73% off\n",
      "20 :  70% off\n",
      "21 :  58% off\n",
      "22 :  60% off\n",
      "23 :  43% off\n",
      "24 :  68% off\n",
      "25 :  81% off\n",
      "26 :  65% off\n",
      "27 :  60% off\n",
      "28 :  70% off\n",
      "29 :  50% off\n",
      "30 :  67% off\n",
      "31 :  60% off\n",
      "32 :  75% off\n",
      "33 :  58% off\n",
      "34 :  55% off\n",
      "35 :  44% off\n",
      "36 :  70% off\n",
      "37 :  77% off\n",
      "38 :  70% off\n",
      "39 :  68% off\n",
      "40 :  47% off\n"
     ]
    }
   ],
   "source": [
    "## DISCOUNT\n",
    "\n",
    "counter = 1\n",
    "driver.get(\"https://www.flipkart.com/search?q=sneakers&otracker=search&otracker1=search&marketplace=FLIPKART&as-show=off&as=off&page=1\")\n",
    "discount = driver.find_elements_by_xpath(\"//div[@class='_3Ay6Sb']/span\")\n",
    "print(\"len: \", len(discount))\n",
    "for dis in discount:\n",
    "    print(counter, \": \", dis.text)\n",
    "    list_discount.append(dis.text)\n",
    "    counter += 1"
   ]
  },
  {
   "cell_type": "code",
   "execution_count": 120,
   "metadata": {},
   "outputs": [
    {
     "name": "stdout",
     "output_type": "stream",
     "text": [
      "len:  33\n",
      "41 :  50% off\n",
      "42 :  56% off\n",
      "43 :  50% off\n",
      "44 :  55% off\n",
      "45 :  59% off\n",
      "46 :  41% off\n",
      "47 :  85% off\n",
      "48 :  49% off\n",
      "49 :  71% off\n",
      "50 :  30% off\n",
      "51 :  50% off\n",
      "52 :  57% off\n",
      "53 :  65% off\n",
      "54 :  54% off\n",
      "55 :  59% off\n",
      "56 :  85% off\n",
      "57 :  81% off\n",
      "58 :  55% off\n",
      "59 :  70% off\n",
      "60 :  49% off\n",
      "61 :  51% off\n",
      "62 :  60% off\n",
      "63 :  60% off\n",
      "64 :  55% off\n",
      "65 :  52% off\n",
      "66 :  70% off\n",
      "67 :  72% off\n",
      "68 :  58% off\n",
      "69 :  55% off\n",
      "70 :  23% off\n",
      "71 :  60% off\n",
      "72 :  52% off\n",
      "73 :  55% off\n",
      "74 :  48% off\n",
      "75 :  58% off\n",
      "76 :  60% off\n",
      "77 :  65% off\n",
      "78 :  51% off\n",
      "79 :  4% off\n",
      "80 :  49% off\n"
     ]
    }
   ],
   "source": [
    "#page 2\n",
    "driver.find_element_by_xpath(\"//a[@class='_1LKTO3']\").click()\n",
    "time.sleep(15)\n",
    "discount = driver.find_elements_by_xpath(\"//div[@class='_3Ay6Sb']/span\")\n",
    "print(\"len: \", len(pro_desc))\n",
    "for dis in discount:\n",
    "    print(counter, \": \", dis.text)\n",
    "    list_discount.append(dis.text)\n",
    "    counter += 1"
   ]
  },
  {
   "cell_type": "code",
   "execution_count": 121,
   "metadata": {},
   "outputs": [
    {
     "name": "stdout",
     "output_type": "stream",
     "text": [
      "len:  33\n",
      "81 :  62% off\n",
      "82 :  40% off\n",
      "83 :  50% off\n",
      "84 :  87% off\n",
      "85 :  62% off\n",
      "86 :  55% off\n",
      "87 :  65% off\n",
      "88 :  40% off\n",
      "89 :  62% off\n",
      "90 :  57% off\n",
      "91 :  55% off\n",
      "92 :  53% off\n",
      "93 :  84% off\n",
      "94 :  57% off\n",
      "95 :  62% off\n",
      "96 :  61% off\n",
      "97 :  65% off\n",
      "98 :  43% off\n",
      "99 :  73% off\n",
      "100 :  70% off\n"
     ]
    }
   ],
   "source": [
    "#page 3\n",
    "driver.find_element_by_xpath(\"//a[@class='_1LKTO3']\").click()\n",
    "time.sleep(15)\n",
    "discount = driver.find_elements_by_xpath(\"//div[@class='_3Ay6Sb']/span\")\n",
    "print(\"len: \", len(pro_desc))\n",
    "for dis in discount:\n",
    "    if counter == 101:\n",
    "        break\n",
    "    else:\n",
    "        print(counter, \": \", dis.text)\n",
    "        list_discount.append(dis.text)\n",
    "        counter += 1"
   ]
  },
  {
   "cell_type": "markdown",
   "metadata": {},
   "source": [
    "# 7th question"
   ]
  },
  {
   "cell_type": "markdown",
   "metadata": {},
   "source": [
    "Q7: Scrape 100 reviews data from flipkart.com for iphone11 phone"
   ]
  },
  {
   "cell_type": "code",
   "execution_count": 35,
   "metadata": {},
   "outputs": [],
   "source": [
    "from selenium import webdriver\n",
    "from selenium.webdriver.support import expected_conditions as ec\n",
    "from selenium.webdriver.support.ui import WebDriverWait\n",
    "from selenium.common.exceptions import NoSuchElementException\n",
    "from selenium.webdriver.common.keys import Keys\n",
    "from selenium.webdriver.common.by import By\n",
    "from selenium.webdriver.common.keys import Keys\n",
    "from bs4 import BeautifulSoup"
   ]
  },
  {
   "cell_type": "code",
   "execution_count": 36,
   "metadata": {},
   "outputs": [],
   "source": [
    "def search():\n",
    "    search_xpath = '//*[@id=\"twotabsearchtextbox\"]'\n",
    "    search_button = wait.until(ec.element_to_be_clickable((By.XPATH, search_xpath)))\n",
    "    search_button.send_keys(\"Laptop\")\n",
    "    search_button.send_keys(Keys.ENTER)\n",
    "\n",
    "def applyFilter():\n",
    "    i7_xpath = '//*[@id=\"p_n_feature_thirteen_browse-bin/12598163031\"]/span/a/span'\n",
    "    i7_btn = wait.until(ec.element_to_be_clickable((By.XPATH, i7_xpath)))\n",
    "    try:\n",
    "        i7_btn.click()\n",
    "    except:\n",
    "        pass\n",
    "\n",
    "    i9_xpath = '//*[@id=\"p_n_feature_thirteen_browse-bin/16757432031\"]/span/a/span'\n",
    "    i9_btn = wait.until(ec.element_to_be_clickable((By.XPATH, i9_xpath)))\n",
    "    try:\n",
    "        i9_btn.click()\n",
    "    except:\n",
    "        pass"
   ]
  },
  {
   "cell_type": "code",
   "execution_count": 37,
   "metadata": {},
   "outputs": [
    {
     "name": "stdout",
     "output_type": "stream",
     "text": [
      "['ASUS ZenBook Flip S OLED, Intel Evo Core i7-1165G7 11th Gen, 13.3-inch UHD Touch Thin and Light 2-in-1 Laptop (16GB/1TB SSD/Windows 10/Office 2019/Iris X Graphics/Jade Black/1.2 kg), UX371EA-HL701TS', '4.6 out of 5 stars', '1,45,490']\n",
      "\n",
      "['ASUS ZenBook Flip S OLED, Intel Evo Core i7-1165G7 11th Gen, 13.3-inch UHD Touch Thin and Light 2-in-1 Laptop (16GB/1TB SSD/Windows 10/Office 2019/Iris X Graphics/Jade Black/1.2 kg), UX371EA-HL701TS', '4.6 out of 5 stars', '1,45,490']\n",
      "\n",
      "['ASUS ZenBook Flip S OLED, Intel Evo Core i7-1165G7 11th Gen, 13.3-inch UHD Touch Thin and Light 2-in-1 Laptop (16GB/1TB SSD/Windows 10/Office 2019/Iris X Graphics/Jade Black/1.2 kg), UX371EA-HL701TS', '4.6 out of 5 stars', '1,45,490']\n",
      "\n",
      "['ASUS ZenBook Flip S OLED, Intel Evo Core i7-1165G7 11th Gen, 13.3-inch UHD Touch Thin and Light 2-in-1 Laptop (16GB/1TB SSD/Windows 10/Office 2019/Iris X Graphics/Jade Black/1.2 kg), UX371EA-HL701TS', '4.6 out of 5 stars', '1,45,490']\n",
      "\n",
      "['ASUS ZenBook Flip S OLED, Intel Evo Core i7-1165G7 11th Gen, 13.3-inch UHD Touch Thin and Light 2-in-1 Laptop (16GB/1TB SSD/Windows 10/Office 2019/Iris X Graphics/Jade Black/1.2 kg), UX371EA-HL701TS', '4.6 out of 5 stars', '1,45,490']\n",
      "\n",
      "['ASUS ZenBook Flip S OLED, Intel Evo Core i7-1165G7 11th Gen, 13.3-inch UHD Touch Thin and Light 2-in-1 Laptop (16GB/1TB SSD/Windows 10/Office 2019/Iris X Graphics/Jade Black/1.2 kg), UX371EA-HL701TS', '4.6 out of 5 stars', '1,45,490']\n",
      "\n",
      "['ASUS ZenBook Flip S OLED, Intel Evo Core i7-1165G7 11th Gen, 13.3-inch UHD Touch Thin and Light 2-in-1 Laptop (16GB/1TB SSD/Windows 10/Office 2019/Iris X Graphics/Jade Black/1.2 kg), UX371EA-HL701TS', '4.6 out of 5 stars', '1,45,490']\n",
      "\n",
      "['ASUS ZenBook Flip S OLED, Intel Evo Core i7-1165G7 11th Gen, 13.3-inch UHD Touch Thin and Light 2-in-1 Laptop (16GB/1TB SSD/Windows 10/Office 2019/Iris X Graphics/Jade Black/1.2 kg), UX371EA-HL701TS', '4.6 out of 5 stars', '1,45,490']\n",
      "\n",
      "['ASUS ZenBook Flip S OLED, Intel Evo Core i7-1165G7 11th Gen, 13.3-inch UHD Touch Thin and Light 2-in-1 Laptop (16GB/1TB SSD/Windows 10/Office 2019/Iris X Graphics/Jade Black/1.2 kg), UX371EA-HL701TS', '4.6 out of 5 stars', '1,45,490']\n",
      "\n",
      "['ASUS ZenBook Flip S OLED, Intel Evo Core i7-1165G7 11th Gen, 13.3-inch UHD Touch Thin and Light 2-in-1 Laptop (16GB/1TB SSD/Windows 10/Office 2019/Iris X Graphics/Jade Black/1.2 kg), UX371EA-HL701TS', '4.6 out of 5 stars', '1,45,490']\n",
      "\n"
     ]
    }
   ],
   "source": [
    "if __name__==\"__main__\":\n",
    "    browser = webdriver.Chrome()\n",
    "    browser.get(\"https://www.amazon.in\")\n",
    "    wait = WebDriverWait(browser, 600)\n",
    "    search()\n",
    "    applyFilter()\n",
    "\n",
    "    #Wait till web page loads\n",
    "    wait.until(ec.element_to_be_clickable((By.XPATH,'//*[@id=\"p_n_feature_thirteen_browse-bin/16757432031\"]/span/a/span')))\n",
    "\n",
    "    html = browser.page_source\n",
    "    soup = BeautifulSoup(html, \"html.parser\")\n",
    "\n",
    "    laptops = soup.find_all(\"div\", {\"class\":\"sg-col sg-col-4-of-12 sg-col-8-of-16 sg-col-12-of-20\"}, limit=10)\n",
    "\n",
    "    for laptop in laptops:\n",
    "        data = []\n",
    "        title = soup.find(\"span\",{\"class\":\"a-size-medium a-color-base a-text-normal\"}).get_text()\n",
    "        data.append(title)\n",
    "        ratings = soup.find(\"span\",{\"class\":\"a-icon-alt\"}).get_text()\n",
    "        data.append(ratings)\n",
    "        price = soup.find(\"span\",{\"class\":\"a-price-whole\"}).get_text()\n",
    "        data.append(price)\n",
    "        print(data)\n",
    "        print()"
   ]
  },
  {
   "cell_type": "markdown",
   "metadata": {},
   "source": [
    "# 10th question"
   ]
  },
  {
   "cell_type": "markdown",
   "metadata": {},
   "source": [
    " Q10: Go to webpage https://www.amazon.in/"
   ]
  },
  {
   "cell_type": "code",
   "execution_count": 56,
   "metadata": {},
   "outputs": [],
   "source": [
    "from selenium import webdriver\n",
    "from selenium.webdriver.support import expected_conditions as ec\n",
    "from selenium.webdriver.support.ui import WebDriverWait\n",
    "from selenium.common.exceptions import NoSuchElementException\n",
    "from selenium.webdriver.common.keys import Keys\n",
    "from selenium.webdriver.common.by import By\n",
    "\n",
    "from bs4 import BeautifulSoup"
   ]
  },
  {
   "cell_type": "code",
   "execution_count": 57,
   "metadata": {},
   "outputs": [],
   "source": [
    "def search():\n",
    "    search_xpath = '//*[@id=\"twotabsearchtextbox\"]'\n",
    "    search_button = wait.until(ec.element_to_be_clickable((By.XPATH, search_xpath)))\n",
    "    search_button.send_keys(\"Laptop\")\n",
    "    search_button.send_keys(Keys.ENTER)\n",
    "\n",
    "def applyFilter():\n",
    "    i7_xpath = '//*[@id=\"p_n_feature_thirteen_browse-bin/12598163031\"]/span/a/span'\n",
    "    i7_btn = wait.until(ec.element_to_be_clickable((By.XPATH, i7_xpath)))\n",
    "    try:\n",
    "        i7_btn.click()\n",
    "    except:\n",
    "        pass\n",
    "\n",
    "    i9_xpath = '//*[@id=\"p_n_feature_thirteen_browse-bin/16757432031\"]/span/a/span'\n",
    "    i9_btn = wait.until(ec.element_to_be_clickable((By.XPATH, i9_xpath)))\n",
    "    try:\n",
    "        i9_btn.click()\n",
    "    except:\n",
    "        pass"
   ]
  },
  {
   "cell_type": "code",
   "execution_count": 58,
   "metadata": {},
   "outputs": [
    {
     "name": "stdout",
     "output_type": "stream",
     "text": [
      "['Mi Notebook Horizon Edition 14 Intel Core i5-10210U 10th Gen 14-inch (35.56 cms) Thin and Light Laptop(8GB/512GB SSD/Windows 10/Nvidia MX350 2GB Graphics/Grey/1.35Kg), XMA1904-AR+Webcam', '4.4 out of 5 stars', '54,999']\n",
      "\n",
      "['HP Pavilion (2021) Thin & Light 11th Gen Core i7 Laptop, 16 GB RAM, 1TB SSD, Iris Xe Graphics, 14\" (35.56cms) FHD Screen, Windows 10, MS Office, Backlit Keyboard (14-dv0058TU)', '4.5 out of 5 stars', '84,990']\n",
      "\n",
      "['Life Digital Laptop 15.6-inch (39.62 cms) (Intel Core i7, 4GB RAM, 256GB SSD, Windows 10), ZED AIR CX7', '3.1 out of 5 stars', '26,990']\n",
      "\n",
      "['HP Pavilion Gaming 10th Gen Intel Core i7 Processor 15.6-inch FHD Gaming Laptop (16GB/512GB SSD + 32GB Intel Optane/Windows 10/NVIDIA 1650Ti 4GB/Shadow Black), 15-dk1509TX', '4.1 out of 5 stars', '86,990']\n",
      "\n",
      "['HP Pavilion x360 (2021) 14\" (35.56cms) FHD Touchscreen Laptop, 11th Gen Core i7, 8 GB RAM, 512GB SSD, 2-in-1 Convertible, Windows 10, MS Office, Finger Print Reader (14-dw1040TU)', '3.8 out of 5 stars', '78,990']\n",
      "\n",
      "['Lenovo IdeaPad Gaming 3 10th Gen Intel Core i7 15.6-inch FHD IPS Gaming Laptop (8GB/1TB HDD + 256 GB SSD/Windows 10/NVIDIA GTX 1650 4GB GDDR6/with M100 RGB Gaming Mouse/Onyx Black/2.2Kg), 81Y400VAIN', '4.3 out of 5 stars', '77,990']\n",
      "\n",
      "['ASUS ROG Zephyrus Duo 15, 15.6\" 4K UHD, Intel Core i7-10875H 10th Gen, RTX\\xa02080 Super Max-Q 8GB Graphics, Gaming Laptop (32GB/2TB RAID 0 SSD/Windows 10/MS Office/Gray/2.48 Kg) GX550LXS-HC145TS', '3.8 out of 5 stars', '2,69,990']\n",
      "\n",
      "['(Renewed) Dell Inspiron 5370 13.3-inch FHD Laptop (Core i7- 8550 U/8GB/256GB/Windows 10 with Ms Office Home & Student 2016/2GB Graphics)', '2.7 out of 5 stars', '59,990']\n",
      "\n",
      "['Dell Inspiron 5406 14\" FHD Touch Display 2in1 Laptop (11th Gen i7-1165G7 / 8Gb / 512Gb SSD / Integrated Graphics / Win 10 + MSO / Titan Grey Color / FPR/ Active Pen) D560414WIN9S', '3.8 out of 5 stars', '92,185']\n",
      "\n",
      "['Asus zenbook 3 Deluxe UX490UA-BE045T', '3.3 out of 5 stars', '98,990']\n",
      "\n",
      "['Asus ZenBook UX330 UX330UA-FB088T 13.3-inch Laptop (Core i7-7500U/8GB/512GB/Windows 10/Integrated Graphics)', '2.3 out of 5 stars', '96,000']\n",
      "\n",
      "['Lenovo Yoga 7 11th Gen Intel Core i7 14\" (35.56cms) Full HD IPS 2-in-1 Touchscreen Laptop (16GB/512GB SSD/Windows 10/MS Office 2019/Fingerprint Reader/Slate Grey/Aluminium Surface/1.43Kg), 82BH004HIN', '4.2 out of 5 stars', '97,990']\n",
      "\n",
      "['Lenovo IdeaPad Flex 5 11th Gen Intel Core i7 14-inch FHD IPS 2-in-1 Touchscreen Laptop (16GB/512GB SSD/Win 10/Office 2019/Lenovo Digital Pen Stylus/Fingerprint Reader/Graphite Grey/1.5Kg), 82HS0092IN', '4.2 out of 5 stars', '88,990']\n",
      "\n",
      "['MSI GF63 Thin 10SCSR-019IN Intel Core i7-10750H 10th Gen 15.6-inch 120Hz Laptop(8GB/512GB NVMe SSD /Windows 10 Home/Nvidia GeForce GTX 1650Ti Max-Q 4GB/Black/1.8Kg ) 9S7-16R412-019', '2.8 out of 5 stars', '89,990']\n",
      "\n",
      "['HP 14 Thin & Light 14\" (35.56cms) FHD Laptop (11th Gen Intel i7-1165G7/8GB/512GB SSD/Windows 10/MS Office 2019/Alexa Built-in/Pale Gold/1.47 kg), 14s-dr2007TU', '4.7 out of 5 stars', '89,990']\n",
      "\n",
      "['ASUS VivoBook S S14 Intel Core i7-1165G7 11th Gen, 14-inch FHD Thin and Light Laptop (8GB RAM/512GB SSD + 32GB Optane Memory/Windows 10/Office 2019/Iris X Graphics- Indie Black/1.4 Kg), S433EA-AM701TS', '4.3 out of 5 stars', '77,175']\n",
      "\n",
      "['MSI GE75 Raider 10SFS 17.3\" FHD Gaming Laptop - Core i7-10875H+HM470 I DDR IV 8GB*2 (3200MHz) I 512GB NVMe PCIe SSD +1TB (SATA) 7200rpm I NVIDIA RTX2070 Super, GDDR6 8GB I Windows 10 Home - Black', '5.0 out of 5 stars', '1,79,990']\n",
      "\n"
     ]
    }
   ],
   "source": [
    "if __name__==\"__main__\":\n",
    "    browser = webdriver.Chrome()\n",
    "    browser.get(\"https://www.amazon.in\")\n",
    "    wait = WebDriverWait(browser, 600)\n",
    "    search()\n",
    "    applyFilter()\n",
    "\n",
    "    #Wait till web page loads\n",
    "    wait.until(ec.element_to_be_clickable((By.XPATH,'//*[@id=\"p_n_feature_thirteen_browse-bin/16757432031\"]/span/a/span')))\n",
    "\n",
    "    html = browser.page_source\n",
    "    soup = BeautifulSoup(html, \"html.parser\")\n",
    "\n",
    "    laptops = soup.find_all(\"div\", {\"class\":\"sg-col sg-col-4-of-12 sg-col-8-of-16 sg-col-12-of-20\"})\n",
    "\n",
    "    for laptop in laptops:\n",
    "        try:\n",
    "            data = []\n",
    "            title = laptop.find(\"span\",{\"class\":\"a-size-medium a-color-base a-text-normal\"}).get_text()\n",
    "            data.append(title)\n",
    "            ratings = laptop.find(\"span\",{\"class\":\"a-icon-alt\"}).get_text()\n",
    "            data.append(ratings)\n",
    "            price = laptop.find(\"span\",{\"class\":\"a-price-whole\"}).get_text()\n",
    "            data.append(price)\n",
    "            print(data)\n",
    "            print()\n",
    "        except:\n",
    "            continue"
   ]
  }
 ],
 "metadata": {
  "kernelspec": {
   "display_name": "Python 3",
   "language": "python",
   "name": "python3"
  },
  "language_info": {
   "codemirror_mode": {
    "name": "ipython",
    "version": 3
   },
   "file_extension": ".py",
   "mimetype": "text/x-python",
   "name": "python",
   "nbconvert_exporter": "python",
   "pygments_lexer": "ipython3",
   "version": "3.8.5"
  }
 },
 "nbformat": 4,
 "nbformat_minor": 4
}
