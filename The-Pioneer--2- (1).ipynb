{
 "cells": [
  {
   "cell_type": "code",
   "execution_count": 5,
   "metadata": {},
   "outputs": [],
   "source": [
    "import pandas as pd\n",
    "from selenium import webdriver\n",
    "import time\n"
   ]
  },
  {
   "cell_type": "code",
   "execution_count": 6,
   "metadata": {},
   "outputs": [],
   "source": [
    "browser = webdriver.Chrome('chromedriver.exe')"
   ]
  },
  {
   "cell_type": "code",
   "execution_count": 13,
   "metadata": {},
   "outputs": [],
   "source": [
    "def get_data(link,driver):\n",
    "    driver.get(link)\n",
    "    time.sleep(2)\n",
    "    headline=driver.find_element_by_xpath('//h2[@itemprop=\"headline\"]').text.strip()\n",
    "    #print(headline)\n",
    "    \n",
    "    \n",
    "    try:\n",
    "        author=driver.find_element_by_xpath('//span[@itemprop=\"author\"]').text.strip()\n",
    "    except:\n",
    "        author=''\n",
    "    \n",
    "    #print(author)\n",
    "    #'//tag[@identifier=\"value\"]'\n",
    "    date=driver.find_element_by_xpath('//span[@itemprop=\"datePublished\"]').text\n",
    "    #print(date)\n",
    "    description=driver.find_element_by_xpath('//div[@itemprop=\"articleBody\"]').text.strip()\n",
    "    #print(description)\n",
    "    return headline,date,author,description"
   ]
  },
  {
   "cell_type": "code",
   "execution_count": 9,
   "metadata": {},
   "outputs": [
    {
     "name": "stdout",
     "output_type": "stream",
     "text": [
      "page:-488\n",
      "https://www.dailypioneer.com/2016/page1/modi-lays-foundation-of-highway-to-progress.html\n",
      "https://www.dailypioneer.com/2016/page1/aap-govt-inducts-10-new-cars-to-spare-ministers.html\n",
      "https://www.dailypioneer.com/2016/page1/delhi-cm-screams-conspiracy-as-babus-go-on-leave.html\n",
      "https://www.dailypioneer.com/2016/page1/modi-for-sahmati-as-oli-talks-nepal-strife.html\n",
      "https://www.dailypioneer.com/2016/page1/delhi-cops-nab-gangster-amid-hail-of-bullets.html\n",
      "https://www.dailypioneer.com/2016/page1/bjp-turns-heat-on-kirti-asks-why-he-shouldnt-be-axed.html\n"
     ]
    }
   ],
   "source": [
    "data={\n",
    "    'date':[],\n",
    "    'author':[],\n",
    "    'headline':[],\n",
    "    'description':[]\n",
    "    }\n",
    "\n",
    "#range(a,b,c)\n",
    "\n",
    "for i in range(488,0,-1):\n",
    "    print(f'page:-{i}')\n",
    "    try:\n",
    "        browser.get(f\"https://www.dailypioneer.com/searchlist.php?yr=2016&mn=1&page={i}.cms\")\n",
    "        start+=1\n",
    "        time.sleep(2)\n",
    "        lists=browser.find_elements_by_xpath('//ul[@class=\"list-unstyled\"]')[-1].find_elements_by_xpath('.//li')\n",
    "        \n",
    "        all_links=[e.find_element_by_xpath('.//a').get_attribute('href') for e in lists]\n",
    "        \n",
    "        for link in all_links:\n",
    "            try:\n",
    "                print(link)\n",
    "                headline,date,author,description=get_data(link,browser)\n",
    "                data['date'].append(date)\n",
    "                data['headline'].append(headline)\n",
    "                data['author'].append(author)\n",
    "                data['description'].append(description)\n",
    "            except Exception as err1:\n",
    "                print(err1)\n",
    "                pass\n",
    "        \n",
    "    except Exception as err:\n",
    "        print(err)\n",
    "        pass\n",
    "    break\n",
    "    \n",
    "df=pd.DataFrame.from_dict(data)\n",
    "df.to_excel('output_Pioneer.xlsx',index=False)"
   ]
  },
  {
   "cell_type": "code",
   "execution_count": null,
   "metadata": {},
   "outputs": [],
   "source": []
  }
 ],
 "metadata": {
  "kernelspec": {
   "display_name": "Python 3",
   "language": "python",
   "name": "python3"
  },
  "language_info": {
   "codemirror_mode": {
    "name": "ipython",
    "version": 3
   },
   "file_extension": ".py",
   "mimetype": "text/x-python",
   "name": "python",
   "nbconvert_exporter": "python",
   "pygments_lexer": "ipython3",
   "version": "3.8.5"
  }
 },
 "nbformat": 4,
 "nbformat_minor": 4
}
