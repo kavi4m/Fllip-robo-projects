{
 "cells": [
  {
   "cell_type": "code",
   "execution_count": 1,
   "metadata": {},
   "outputs": [],
   "source": [
    "import pandas as pd\n",
    "from selenium import webdriver\n",
    "import time"
   ]
  },
  {
   "cell_type": "code",
   "execution_count": 2,
   "metadata": {},
   "outputs": [],
   "source": [
    "browser = webdriver.Chrome('chromedriver.exe')"
   ]
  },
  {
   "cell_type": "code",
   "execution_count": 3,
   "metadata": {},
   "outputs": [],
   "source": [
    "def get_data(link,driver):\n",
    "    driver.get(link)\n",
    "    time.sleep(2)\n",
    "    headline=driver.find_element_by_xpath('//h1[@class=\"f-left sanspro-b\"]').text.strip()\n",
    "    print(headline)\n",
    "    \n",
    "    vertical=link.split('/')[-2].replace('-',' ')\n",
    "    print(vertical)\n",
    "    \n",
    "    try:\n",
    "        author=driver.find_element_by_xpath('//a[@class=\"sanspro-reg article-author__name\"]').text.strip()\n",
    "    except:\n",
    "        author=''\n",
    "    \n",
    "    print(author)\n",
    "    date=driver.find_element_by_xpath('//li[@class=\"sanspro-semib text-uppercase crud-items__lists\"]').text.replace('Last Updated: ','')\n",
    "    print(date)\n",
    "    description=driver.find_element_by_xpath('//div[@class=\"field field-name-body field-type-text-with-summary field-label-hidden\"]').text.strip()\n",
    "    print(description)\n",
    "    return headline,date,vertical,author,description"
   ]
  },
  {
   "cell_type": "code",
   "execution_count": 4,
   "metadata": {},
   "outputs": [
    {
     "name": "stdout",
     "output_type": "stream",
     "text": [
      "page:-1\n"
     ]
    },
    {
     "name": "stderr",
     "output_type": "stream",
     "text": [
      "ERROR:root:Internal Python error in the inspect module.\n",
      "Below is the traceback from this internal error.\n",
      "\n",
      "ERROR:root:Internal Python error in the inspect module.\n",
      "Below is the traceback from this internal error.\n",
      "\n",
      "\n",
      "KeyboardInterrupt\n",
      "\n"
     ]
    }
   ],
   "source": [
    "data={\n",
    "    'date':[],\n",
    "    'author':[],\n",
    "    'vertical':[],\n",
    "    'headline':[],\n",
    "    'description':[]\n",
    "    }\n",
    "\n",
    "\n",
    "for i in range(1,31):\n",
    "    print(f'page:-{i}')\n",
    "    try:\n",
    "        if i <10:\n",
    "            date_=f'0{i}'\n",
    "        else:\n",
    "            date_=str(i)\n",
    "        custom_url=f'https://www.deccanherald.com/sitemap/detail/days/2021-06-{date_}'\n",
    "        browser.get(custom_url)\n",
    "        \n",
    "        time.sleep(2)\n",
    "        links=browser.find_elements_by_xpath('//li[@class=\"group sanspro-reg archives-note\"]')\n",
    "        links=[e.find_element_by_xpath('.//a').get_attribute('href') for e in links]\n",
    "        \n",
    "        for link in links:\n",
    "            try:\n",
    "                print(link)\n",
    "                headline,date,vertical,author,description=get_data(link,browser)\n",
    "                data['date'].append(date)\n",
    "                data['headline'].append(headline)\n",
    "                data['vertical'].append(vertical)\n",
    "                data['author'].append(author)\n",
    "                data['description'].append(description)\n",
    "            except Exception as err1:\n",
    "                print(err1)\n",
    "                pass\n",
    "            \n",
    "        \n",
    "    except Exception as err:\n",
    "        print(err)\n",
    "        pass\n",
    "    #break\n",
    "    \n",
    "df=pd.DataFrame.from_dict(data)\n",
    "df.to_excel('output_deccan.xlsx',index=False)"
   ]
  },
  {
   "cell_type": "code",
   "execution_count": null,
   "metadata": {},
   "outputs": [],
   "source": []
  }
 ],
 "metadata": {
  "kernelspec": {
   "display_name": "Python 3",
   "language": "python",
   "name": "python3"
  },
  "language_info": {
   "codemirror_mode": {
    "name": "ipython",
    "version": 3
   },
   "file_extension": ".py",
   "mimetype": "text/x-python",
   "name": "python",
   "nbconvert_exporter": "python",
   "pygments_lexer": "ipython3",
   "version": "3.8.5"
  }
 },
 "nbformat": 4,
 "nbformat_minor": 4
}
