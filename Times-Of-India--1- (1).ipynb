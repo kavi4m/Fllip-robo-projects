{
 "cells": [
  {
   "cell_type": "code",
   "execution_count": 1,
   "source": [
    "import pandas as pd\r\n",
    "from selenium import webdriver\r\n",
    "import time"
   ],
   "outputs": [],
   "metadata": {}
  },
  {
   "cell_type": "code",
   "execution_count": 10,
   "source": [
    "def get_data(link,driver):\r\n",
    "    driver.get(link)\r\n",
    "    time.sleep(2)\r\n",
    "    headline=driver.find_element_by_xpath('//h1').text.strip()\r\n",
    "    vertical=driver.find_element_by_xpath('//meta[@property=\"article:section\"]').get_attribute('content')\r\n",
    "    author_element=driver.find_element_by_xpath('//div[@class=\"as_byline\"]')\r\n",
    "    try:\r\n",
    "        author=author_element.find_element_by_xpath('.//a[@class=\"auth_detail\"]').text.strip()\r\n",
    "    except:\r\n",
    "        author=''\r\n",
    "    date=','.join(driver.find_element_by_xpath('//div[@data-plugin=\"dateformat\"]').text.split(':')[-2].split(',')[:-1]).strip()\r\n",
    "    description=driver.find_element_by_xpath('//div[@class=\"Normal\"]').text.strip()\r\n",
    "    return headline,date,vertical,author,description"
   ],
   "outputs": [],
   "metadata": {}
  },
  {
   "cell_type": "code",
   "execution_count": null,
   "source": [
    "browser = webdriver.Chrome('chromedriver.exe')\r\n",
    "\r\n",
    "data={\r\n",
    "    'date':[],\r\n",
    "    'author':[],\r\n",
    "    'vertical':[],\r\n",
    "    'headline':[],\r\n",
    "    'description':[]\r\n",
    "    }\r\n",
    "\r\n",
    "\r\n",
    "start=44197\r\n",
    "for i in range(31):\r\n",
    "    print(f'page:-{i}')\r\n",
    "    try:\r\n",
    "        browser.get(f\"https://timesofindia.indiatimes.com/2021/1/1/archivelist/year-2021,month-1,starttime-{start}.cms\")\r\n",
    "        start+=1\r\n",
    "        time.sleep(2)\r\n",
    "        links=browser.find_elements_by_xpath('/html/body/div[1]/table[2]/tbody/tr[2]/td[1]/div[3]/table/tbody/tr[2]/td[1]/span//a')\r\n",
    "        links=[e.get_attribute('href') for e in links]\r\n",
    "        for link in links:\r\n",
    "            if link[-4:]=='.cms' and \"//city\" not in link and '//world' not in link and '//india' not in link and '//sports' not in link and '//business' not in link:\r\n",
    "                try:\r\n",
    "                    #print(link)\r\n",
    "                    headline,date,vertical,author,description=get_data(link,browser)\r\n",
    "                    data['date'].append(date)\r\n",
    "                    data['headline'].append(headline)\r\n",
    "                    data['vertical'].append(vertical)\r\n",
    "                    data['author'].append(author)\r\n",
    "                    data['description'].append(description)\r\n",
    "                except Exception as err1:\r\n",
    "                    #print(err1)\r\n",
    "                    pass\r\n",
    "        \r\n",
    "    except Exception as err:\r\n",
    "        #print(err)\r\n",
    "        pass\r\n",
    "    \r\n",
    "df=pd.DataFrame.from_dict(data)\r\n",
    "df.to_excel('output.xlsx',index=False)"
   ],
   "outputs": [],
   "metadata": {
    "scrolled": true
   }
  }
 ],
 "metadata": {
  "kernelspec": {
   "name": "python3",
   "display_name": "Python 3.9.5 64-bit"
  },
  "language_info": {
   "codemirror_mode": {
    "name": "ipython",
    "version": 3
   },
   "file_extension": ".py",
   "mimetype": "text/x-python",
   "name": "python",
   "nbconvert_exporter": "python",
   "pygments_lexer": "ipython3",
   "version": "3.9.5"
  },
  "interpreter": {
   "hash": "33dc6d49505b4536b6a128d9d7c879e1fa44477ad44947bbbe73093067fe6393"
  }
 },
 "nbformat": 4,
 "nbformat_minor": 4
}