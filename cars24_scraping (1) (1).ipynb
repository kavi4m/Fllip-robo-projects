{
 "cells": [
  {
   "cell_type": "code",
   "execution_count": 1,
   "metadata": {
    "id": "4avtXtSTFFdT"
   },
   "outputs": [
    {
     "name": "stderr",
     "output_type": "stream",
     "text": [
      "\n",
      "\n",
      "====== WebDriver manager ======\n",
      "Current google-chrome version is 93.0.4577\n",
      "Get LATEST driver version for 93.0.4577\n",
      "Driver [C:\\Users\\DELL\\.wdm\\drivers\\chromedriver\\win32\\93.0.4577.63\\chromedriver.exe] found in cache\n"
     ]
    }
   ],
   "source": [
    "from selenium import webdriver\n",
    "import time\n",
    "from webdriver_manager import driver\n",
    "from webdriver_manager.chrome import ChromeDriverManager\n",
    "import pandas as pd\n",
    "\n",
    "\n",
    "\n",
    "\n",
    "options = webdriver.ChromeOptions() \n",
    "options.add_argument(\"start-maximized\")\n",
    "options.add_experimental_option(\"excludeSwitches\", [\"enable-automation\"])\n",
    "options.add_experimental_option('useAutomationExtension', False)\n",
    "driver =webdriver.Chrome(ChromeDriverManager().install(),options=options)\n",
    "driver.execute_cdp_cmd(\"Page.addScriptToEvaluateOnNewDocument\", {\n",
    "  \"source\": \"\"\"\n",
    "    Object.defineProperty(navigator, 'webdriver', {\n",
    "      get: () => undefined\n",
    "    })\n",
    "  \"\"\"\n",
    "})\n",
    "driver.execute_cdp_cmd(\"Network.enable\", {})\n",
    "driver.execute_cdp_cmd('Network.setUserAgentOverride', {\"userAgent\": 'Mozilla/5.0 (Windows NT 10.0; Win64; x64) AppleWebKit/537.36 (KHTML, like Gecko) Chrome/83.0.4103.53 Safari/537.36'})\n",
    "\n",
    "main=[]"
   ]
  },
  {
   "cell_type": "code",
   "execution_count": 2,
   "metadata": {
    "id": "-xv-dob-CPjA"
   },
   "outputs": [],
   "source": [
    "def get_all_cars(url,location):\n",
    "    driver.get(url)\n",
    "    time.sleep(5)\n",
    "    for _ in range(15):\n",
    "        driver.execute_script(\"window.scrollTo(0,document.documentElement.scrollHeight);\")\n",
    "        time.sleep(5)\n",
    "    l=driver.find_elements_by_xpath('//div[@class=\"col-4\"]')\n",
    "    for ele in l:\n",
    "        try:\n",
    "            name_data=ele.find_element_by_xpath('.//h2').text\n",
    "            year=name_data.split(' ')[0]\n",
    "            name=' '.join(name_data.split(' ')[1:])\n",
    "            transmission=ele.find_element_by_xpath('.//span').text\n",
    "            mileage=ele.find_elements_by_xpath('.//li')[0].text\n",
    "            owner=ele.find_elements_by_xpath('.//li')[1].text\n",
    "            fuel=ele.find_elements_by_xpath('.//li')[2].text\n",
    "            price=ele.find_element_by_xpath('.//div[@class=\"_7udZZ\"]//span').text\n",
    "            model=ele.find_element_by_xpath('.//p[@class=\"cvakB\"]').text\n",
    "            location=location\n",
    "            d={\n",
    "                'name':name,\n",
    "                'year':year,\n",
    "                'transmission':transmission,\n",
    "                'mileage':mileage,\n",
    "                'owner':owner,\n",
    "                'fuel':fuel,\n",
    "                'price':price,\n",
    "                'model':model,\n",
    "                'location':location\n",
    "            }\n",
    "            main.append(d)\n",
    "        except:\n",
    "            pass"
   ]
  },
  {
   "cell_type": "code",
   "execution_count": 3,
   "metadata": {},
   "outputs": [],
   "source": [
    "location_dictionary={\n",
    "    'mumbai': 'https://www.cars24.com/buy-used-car?sort=P&storeCityId=2378&pinId=400001',\n",
    "    'hyderabad' :'https://www.cars24.com/buy-used-car?sort=P&storeCityId=3686&pinId=500001',\n",
    "    'delhi' :'https://www.cars24.com/buy-used-car?sort=P&storeCityId=2&pinId=110001',\n",
    "    'ahmedabad' :'https://www.cars24.com/buy-used-car?sort=P&storeCityId=1692&pinId=380001',\n",
    "    'bengaluru' :'https://www.cars24.com/buy-used-car?sort=P&storeCityId=4709&pinId=560001',\n",
    "    'noida':'https://www.cars24.com/buy-used-car?sort=P&storeCityId=134&pinId=201301',\n",
    "}\n",
    "\n",
    "for k,v in location_dictionary.items():\n",
    "    get_all_cars(v,k)\n",
    "    #break\n",
    "\n",
    "df=pd.DataFrame(main)\n",
    "df.to_excel('final_car_data.xlsx',index=False)"
   ]
  }
 ],
 "metadata": {
  "colab": {
   "collapsed_sections": [],
   "name": "Deccan Herald (2).ipynb",
   "provenance": []
  },
  "interpreter": {
   "hash": "33dc6d49505b4536b6a128d9d7c879e1fa44477ad44947bbbe73093067fe6393"
  },
  "kernelspec": {
   "display_name": "Python 3",
   "language": "python",
   "name": "python3"
  },
  "language_info": {
   "codemirror_mode": {
    "name": "ipython",
    "version": 3
   },
   "file_extension": ".py",
   "mimetype": "text/x-python",
   "name": "python",
   "nbconvert_exporter": "python",
   "pygments_lexer": "ipython3",
   "version": "3.8.5"
  }
 },
 "nbformat": 4,
 "nbformat_minor": 2
}
