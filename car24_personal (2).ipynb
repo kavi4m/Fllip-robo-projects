{
  "nbformat": 4,
  "nbformat_minor": 2,
  "metadata": {
    "colab": {
      "name": "Deccan Herald (2).ipynb",
      "provenance": [],
      "collapsed_sections": []
    },
    "kernelspec": {
      "name": "python3",
      "display_name": "Python 3.9.7 64-bit"
    },
    "language_info": {
      "name": "python",
      "version": "3.9.7",
      "mimetype": "text/x-python",
      "codemirror_mode": {
        "name": "ipython",
        "version": 3
      },
      "pygments_lexer": "ipython3",
      "nbconvert_exporter": "python",
      "file_extension": ".py"
    },
    "interpreter": {
      "hash": "33dc6d49505b4536b6a128d9d7c879e1fa44477ad44947bbbe73093067fe6393"
    }
  },
  "cells": [
    {
      "cell_type": "code",
      "execution_count": 12,
      "source": [
        "from selenium import webdriver\r\n",
        "import time\r\n",
        "from webdriver_manager import driver\r\n",
        "from webdriver_manager.chrome import ChromeDriverManager\r\n",
        "import pandas as pd\r\n",
        "\r\n",
        "\r\n",
        "\r\n",
        "\r\n",
        "options = webdriver.ChromeOptions() \r\n",
        "options.add_argument(\"start-maximized\")\r\n",
        "options.add_experimental_option(\"excludeSwitches\", [\"enable-automation\"])\r\n",
        "options.add_experimental_option('useAutomationExtension', False)\r\n",
        "driver =webdriver.Chrome(ChromeDriverManager().install(),options=options)\r\n",
        "driver.execute_cdp_cmd(\"Page.addScriptToEvaluateOnNewDocument\", {\r\n",
        "  \"source\": \"\"\"\r\n",
        "    Object.defineProperty(navigator, 'webdriver', {\r\n",
        "      get: () => undefined\r\n",
        "    })\r\n",
        "  \"\"\"\r\n",
        "})\r\n",
        "driver.execute_cdp_cmd(\"Network.enable\", {})\r\n",
        "driver.execute_cdp_cmd('Network.setUserAgentOverride', {\"userAgent\": 'Mozilla/5.0 (Windows NT 10.0; Win64; x64) AppleWebKit/537.36 (KHTML, like Gecko) Chrome/83.0.4103.53 Safari/537.36'})\r\n",
        "\r\n",
        "main=[]"
      ],
      "outputs": [
        {
          "output_type": "stream",
          "name": "stderr",
          "text": [
            "\n",
            "\n",
            "====== WebDriver manager ======\n",
            "Current google-chrome version is 93.0.4577\n",
            "Get LATEST driver version for 93.0.4577\n",
            "Driver [C:\\Users\\DELL\\.wdm\\drivers\\chromedriver\\win32\\93.0.4577.63\\chromedriver.exe] found in cache\n"
          ]
        }
      ],
      "metadata": {
        "id": "4avtXtSTFFdT"
      }
    },
    {
      "cell_type": "code",
      "execution_count": 13,
      "source": [
        "def get_all_cars(url,location):\r\n",
        "    driver.get(url)\r\n",
        "    time.sleep(5)\r\n",
        "    for _ in range(20):\r\n",
        "        driver.execute_script(\"window.scrollTo(0,document.documentElement.scrollHeight);\")\r\n",
        "        time.sleep(5)\r\n",
        "    l=driver.find_elements_by_xpath('//div[@class=\"col-4\"]')\r\n",
        "    for ele in l:\r\n",
        "        try:\r\n",
        "            name_data=ele.find_element_by_xpath('.//h2').text\r\n",
        "            year=name_data.split(' ')[0]\r\n",
        "            name=' '.join(name_data.split(' ')[1:])\r\n",
        "            transmission=ele.find_element_by_xpath('.//span').text\r\n",
        "            mileage=ele.find_elements_by_xpath('.//li')[0].text\r\n",
        "            owner=ele.find_elements_by_xpath('.//li')[1].text\r\n",
        "            fuel=ele.find_elements_by_xpath('.//li')[2].text\r\n",
        "            price=ele.find_element_by_xpath('.//div[@class=\"_7udZZ\"]//span').text\r\n",
        "            model=ele.find_element_by_xpath('.//p[@class=\"cvakB\"]').text\r\n",
        "            location=location\r\n",
        "            d={\r\n",
        "                'name':name,\r\n",
        "                'year':year,\r\n",
        "                'transmission':transmission,\r\n",
        "                'mileage':mileage,\r\n",
        "                'owner':owner,\r\n",
        "                'fuel':fuel,\r\n",
        "                'price':price,\r\n",
        "                'model':model,\r\n",
        "                'location':location\r\n",
        "            }\r\n",
        "            main.append(d)\r\n",
        "        except:\r\n",
        "            pass"
      ],
      "outputs": [],
      "metadata": {
        "id": "-xv-dob-CPjA"
      }
    },
    {
      "cell_type": "code",
      "execution_count": 14,
      "source": [
        "location_dictionary={\r\n",
        "    'delhi' :'https://www.cars24.com/buy-used-car?sort=P&storeCityId=2&pinId=110001',\r\n",
        "    'ahmedabad' :'https://www.cars24.com/buy-used-car?sort=P&storeCityId=1692&pinId=380001',\r\n",
        "    'bengaluru' :'https://www.cars24.com/buy-used-car?sort=P&storeCityId=4709&pinId=560001',\r\n",
        "}\r\n",
        "\r\n",
        "for k,v in location_dictionary.items():\r\n",
        "    get_all_cars(v,k)\r\n",
        "    break\r\n",
        "\r\n",
        "df=pd.DataFrame(main)\r\n",
        "df.to_excel('output_all_3.xlsx',index=False)"
      ],
      "outputs": [],
      "metadata": {}
    }
  ]
}